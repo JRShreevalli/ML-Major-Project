{
  "cells": [
    {
      "cell_type": "markdown",
      "metadata": {
        "id": "ilJXAnsOpyTK"
      },
      "source": [
        "# ML MAJOR PROJECT"
      ]
    },
    {
      "cell_type": "markdown",
      "metadata": {
        "id": "-UQcVAJ4pyTP"
      },
      "source": [
        "## CLEANING DATA OF DATA"
      ]
    },
    {
      "cell_type": "code",
      "execution_count": 73,
      "metadata": {
        "id": "C5tWXmOzpyTP"
      },
      "outputs": [],
      "source": [
        "import datetime\n",
        "import pandas as pd\n",
        "import numpy as np\n",
        "import math\n",
        "from sklearn import datasets, linear_model\n",
        "from sklearn.model_selection import train_test_split\n",
        "from matplotlib import pyplot as plt\n",
        "from pandas import DataFrame"
      ]
    },
    {
      "cell_type": "code",
      "execution_count": 75,
      "metadata": {
        "colab": {
          "base_uri": "https://localhost:8080/",
          "height": 673
        },
        "id": "vtc9VqLNpyTR",
        "outputId": "dfe6f3a1-8ce9-47e3-9e8f-45ab5d4b64a7"
      },
      "outputs": [
        {
          "output_type": "stream",
          "name": "stdout",
          "text": [
            "TRAIN SHAPE:  (6019, 12)\n",
            "<class 'pandas.core.frame.DataFrame'>\n",
            "Int64Index: 6019 entries, 1177 to 2863\n",
            "Data columns (total 12 columns):\n",
            " #   Column             Non-Null Count  Dtype  \n",
            "---  ------             --------------  -----  \n",
            " 0   Name               6019 non-null   object \n",
            " 1   Location           6019 non-null   object \n",
            " 2   Year               6019 non-null   int64  \n",
            " 3   Kilometers_Driven  6019 non-null   int64  \n",
            " 4   Fuel_Type          6019 non-null   object \n",
            " 5   Transmission       6019 non-null   object \n",
            " 6   Owner_Type         6019 non-null   object \n",
            " 7   Mileage            6017 non-null   object \n",
            " 8   Engine             5983 non-null   object \n",
            " 9   Power              5983 non-null   object \n",
            " 10  Seats              5977 non-null   float64\n",
            " 11  Price              6019 non-null   float64\n",
            "dtypes: float64(2), int64(2), object(8)\n",
            "memory usage: 611.3+ KB\n"
          ]
        },
        {
          "output_type": "execute_result",
          "data": {
            "text/html": [
              "\n",
              "  <div id=\"df-a104298b-5550-4131-8818-19c445f53180\">\n",
              "    <div class=\"colab-df-container\">\n",
              "      <div>\n",
              "<style scoped>\n",
              "    .dataframe tbody tr th:only-of-type {\n",
              "        vertical-align: middle;\n",
              "    }\n",
              "\n",
              "    .dataframe tbody tr th {\n",
              "        vertical-align: top;\n",
              "    }\n",
              "\n",
              "    .dataframe thead th {\n",
              "        text-align: right;\n",
              "    }\n",
              "</style>\n",
              "<table border=\"1\" class=\"dataframe\">\n",
              "  <thead>\n",
              "    <tr style=\"text-align: right;\">\n",
              "      <th></th>\n",
              "      <th>Name</th>\n",
              "      <th>Location</th>\n",
              "      <th>Year</th>\n",
              "      <th>Kilometers_Driven</th>\n",
              "      <th>Fuel_Type</th>\n",
              "      <th>Transmission</th>\n",
              "      <th>Owner_Type</th>\n",
              "      <th>Mileage</th>\n",
              "      <th>Engine</th>\n",
              "      <th>Power</th>\n",
              "      <th>Seats</th>\n",
              "      <th>Price</th>\n",
              "    </tr>\n",
              "  </thead>\n",
              "  <tbody>\n",
              "    <tr>\n",
              "      <th>1177</th>\n",
              "      <td>Hyundai i10 Era</td>\n",
              "      <td>Jaipur</td>\n",
              "      <td>2013</td>\n",
              "      <td>46230</td>\n",
              "      <td>Petrol</td>\n",
              "      <td>Manual</td>\n",
              "      <td>First</td>\n",
              "      <td>19.81 kmpl</td>\n",
              "      <td>1086 CC</td>\n",
              "      <td>68.05 bhp</td>\n",
              "      <td>5.0</td>\n",
              "      <td>3.10</td>\n",
              "    </tr>\n",
              "    <tr>\n",
              "      <th>4515</th>\n",
              "      <td>Toyota Innova 2.5 G (Diesel) 7 Seater BS IV</td>\n",
              "      <td>Pune</td>\n",
              "      <td>2009</td>\n",
              "      <td>118000</td>\n",
              "      <td>Diesel</td>\n",
              "      <td>Manual</td>\n",
              "      <td>First</td>\n",
              "      <td>12.8 kmpl</td>\n",
              "      <td>2494 CC</td>\n",
              "      <td>102 bhp</td>\n",
              "      <td>8.0</td>\n",
              "      <td>4.50</td>\n",
              "    </tr>\n",
              "    <tr>\n",
              "      <th>3686</th>\n",
              "      <td>Skoda Laura Ambiente</td>\n",
              "      <td>Hyderabad</td>\n",
              "      <td>2008</td>\n",
              "      <td>122397</td>\n",
              "      <td>Diesel</td>\n",
              "      <td>Manual</td>\n",
              "      <td>First</td>\n",
              "      <td>17.5 kmpl</td>\n",
              "      <td>1896 CC</td>\n",
              "      <td>106 bhp</td>\n",
              "      <td>5.0</td>\n",
              "      <td>4.40</td>\n",
              "    </tr>\n",
              "    <tr>\n",
              "      <th>1839</th>\n",
              "      <td>Maruti Ertiga VDI</td>\n",
              "      <td>Delhi</td>\n",
              "      <td>2014</td>\n",
              "      <td>79870</td>\n",
              "      <td>Diesel</td>\n",
              "      <td>Manual</td>\n",
              "      <td>First</td>\n",
              "      <td>20.77 kmpl</td>\n",
              "      <td>1248 CC</td>\n",
              "      <td>88.76 bhp</td>\n",
              "      <td>7.0</td>\n",
              "      <td>5.35</td>\n",
              "    </tr>\n",
              "    <tr>\n",
              "      <th>3174</th>\n",
              "      <td>Hyundai Verna 1.6 SX</td>\n",
              "      <td>Kolkata</td>\n",
              "      <td>2011</td>\n",
              "      <td>34994</td>\n",
              "      <td>Diesel</td>\n",
              "      <td>Manual</td>\n",
              "      <td>First</td>\n",
              "      <td>22.32 kmpl</td>\n",
              "      <td>1582 CC</td>\n",
              "      <td>126.32 bhp</td>\n",
              "      <td>5.0</td>\n",
              "      <td>3.90</td>\n",
              "    </tr>\n",
              "  </tbody>\n",
              "</table>\n",
              "</div>\n",
              "      <button class=\"colab-df-convert\" onclick=\"convertToInteractive('df-a104298b-5550-4131-8818-19c445f53180')\"\n",
              "              title=\"Convert this dataframe to an interactive table.\"\n",
              "              style=\"display:none;\">\n",
              "        \n",
              "  <svg xmlns=\"http://www.w3.org/2000/svg\" height=\"24px\"viewBox=\"0 0 24 24\"\n",
              "       width=\"24px\">\n",
              "    <path d=\"M0 0h24v24H0V0z\" fill=\"none\"/>\n",
              "    <path d=\"M18.56 5.44l.94 2.06.94-2.06 2.06-.94-2.06-.94-.94-2.06-.94 2.06-2.06.94zm-11 1L8.5 8.5l.94-2.06 2.06-.94-2.06-.94L8.5 2.5l-.94 2.06-2.06.94zm10 10l.94 2.06.94-2.06 2.06-.94-2.06-.94-.94-2.06-.94 2.06-2.06.94z\"/><path d=\"M17.41 7.96l-1.37-1.37c-.4-.4-.92-.59-1.43-.59-.52 0-1.04.2-1.43.59L10.3 9.45l-7.72 7.72c-.78.78-.78 2.05 0 2.83L4 21.41c.39.39.9.59 1.41.59.51 0 1.02-.2 1.41-.59l7.78-7.78 2.81-2.81c.8-.78.8-2.07 0-2.86zM5.41 20L4 18.59l7.72-7.72 1.47 1.35L5.41 20z\"/>\n",
              "  </svg>\n",
              "      </button>\n",
              "      \n",
              "  <style>\n",
              "    .colab-df-container {\n",
              "      display:flex;\n",
              "      flex-wrap:wrap;\n",
              "      gap: 12px;\n",
              "    }\n",
              "\n",
              "    .colab-df-convert {\n",
              "      background-color: #E8F0FE;\n",
              "      border: none;\n",
              "      border-radius: 50%;\n",
              "      cursor: pointer;\n",
              "      display: none;\n",
              "      fill: #1967D2;\n",
              "      height: 32px;\n",
              "      padding: 0 0 0 0;\n",
              "      width: 32px;\n",
              "    }\n",
              "\n",
              "    .colab-df-convert:hover {\n",
              "      background-color: #E2EBFA;\n",
              "      box-shadow: 0px 1px 2px rgba(60, 64, 67, 0.3), 0px 1px 3px 1px rgba(60, 64, 67, 0.15);\n",
              "      fill: #174EA6;\n",
              "    }\n",
              "\n",
              "    [theme=dark] .colab-df-convert {\n",
              "      background-color: #3B4455;\n",
              "      fill: #D2E3FC;\n",
              "    }\n",
              "\n",
              "    [theme=dark] .colab-df-convert:hover {\n",
              "      background-color: #434B5C;\n",
              "      box-shadow: 0px 1px 3px 1px rgba(0, 0, 0, 0.15);\n",
              "      filter: drop-shadow(0px 1px 2px rgba(0, 0, 0, 0.3));\n",
              "      fill: #FFFFFF;\n",
              "    }\n",
              "  </style>\n",
              "\n",
              "      <script>\n",
              "        const buttonEl =\n",
              "          document.querySelector('#df-a104298b-5550-4131-8818-19c445f53180 button.colab-df-convert');\n",
              "        buttonEl.style.display =\n",
              "          google.colab.kernel.accessAllowed ? 'block' : 'none';\n",
              "\n",
              "        async function convertToInteractive(key) {\n",
              "          const element = document.querySelector('#df-a104298b-5550-4131-8818-19c445f53180');\n",
              "          const dataTable =\n",
              "            await google.colab.kernel.invokeFunction('convertToInteractive',\n",
              "                                                     [key], {});\n",
              "          if (!dataTable) return;\n",
              "\n",
              "          const docLinkHtml = 'Like what you see? Visit the ' +\n",
              "            '<a target=\"_blank\" href=https://colab.research.google.com/notebooks/data_table.ipynb>data table notebook</a>'\n",
              "            + ' to learn more about interactive tables.';\n",
              "          element.innerHTML = '';\n",
              "          dataTable['output_type'] = 'display_data';\n",
              "          await google.colab.output.renderOutput(dataTable, element);\n",
              "          const docLink = document.createElement('div');\n",
              "          docLink.innerHTML = docLinkHtml;\n",
              "          element.appendChild(docLink);\n",
              "        }\n",
              "      </script>\n",
              "    </div>\n",
              "  </div>\n",
              "  "
            ],
            "text/plain": [
              "                                             Name   Location  ...  Seats  Price\n",
              "1177                              Hyundai i10 Era     Jaipur  ...    5.0   3.10\n",
              "4515  Toyota Innova 2.5 G (Diesel) 7 Seater BS IV       Pune  ...    8.0   4.50\n",
              "3686                         Skoda Laura Ambiente  Hyderabad  ...    5.0   4.40\n",
              "1839                            Maruti Ertiga VDI      Delhi  ...    7.0   5.35\n",
              "3174                         Hyundai Verna 1.6 SX    Kolkata  ...    5.0   3.90\n",
              "\n",
              "[5 rows x 12 columns]"
            ]
          },
          "metadata": {},
          "execution_count": 75
        }
      ],
      "source": [
        "train = pd.read_excel('/content/Data_Train.xlsx')\n",
        "train = train.reindex(np.random.permutation(train.index))\n",
        "\n",
        "# numpy.random.permutation() method, we can get the random samples of sequence of permutation \n",
        "#  and return sequence by using this method.\n",
        "\n",
        "print(\"TRAIN SHAPE: \",train.shape)\n",
        "train.info()\n",
        "train.head()"
      ]
    },
    {
      "cell_type": "code",
      "execution_count": 77,
      "metadata": {
        "colab": {
          "base_uri": "https://localhost:8080/"
        },
        "id": "IZfdMXCzpyTS",
        "outputId": "064cafd6-3b2b-421f-cd3a-62b5347928c9"
      },
      "outputs": [
        {
          "output_type": "execute_result",
          "data": {
            "text/plain": [
              "Name                  0\n",
              "Location              0\n",
              "Year                  0\n",
              "Kilometers_Driven     0\n",
              "Fuel_Type             0\n",
              "Transmission          0\n",
              "Owner_Type            0\n",
              "Mileage               2\n",
              "Engine               36\n",
              "Power                36\n",
              "Seats                42\n",
              "Price                 0\n",
              "dtype: int64"
            ]
          },
          "metadata": {},
          "execution_count": 77
        }
      ],
      "source": [
        "train.isnull().sum()\n",
        "# returns the number of missing values in the data set. "
      ]
    },
    {
      "cell_type": "code",
      "execution_count": 78,
      "metadata": {
        "colab": {
          "base_uri": "https://localhost:8080/",
          "height": 297
        },
        "id": "OkWiKA1LpyTS",
        "outputId": "b98e22ef-d669-4c98-af27-633a30b88667"
      },
      "outputs": [
        {
          "output_type": "execute_result",
          "data": {
            "text/html": [
              "\n",
              "  <div id=\"df-4d46071b-03b5-4400-bb1d-53511d264e79\">\n",
              "    <div class=\"colab-df-container\">\n",
              "      <div>\n",
              "<style scoped>\n",
              "    .dataframe tbody tr th:only-of-type {\n",
              "        vertical-align: middle;\n",
              "    }\n",
              "\n",
              "    .dataframe tbody tr th {\n",
              "        vertical-align: top;\n",
              "    }\n",
              "\n",
              "    .dataframe thead th {\n",
              "        text-align: right;\n",
              "    }\n",
              "</style>\n",
              "<table border=\"1\" class=\"dataframe\">\n",
              "  <thead>\n",
              "    <tr style=\"text-align: right;\">\n",
              "      <th></th>\n",
              "      <th>Year</th>\n",
              "      <th>Kilometers_Driven</th>\n",
              "      <th>Seats</th>\n",
              "      <th>Price</th>\n",
              "    </tr>\n",
              "  </thead>\n",
              "  <tbody>\n",
              "    <tr>\n",
              "      <th>count</th>\n",
              "      <td>6019.000000</td>\n",
              "      <td>6.019000e+03</td>\n",
              "      <td>5977.000000</td>\n",
              "      <td>6019.000000</td>\n",
              "    </tr>\n",
              "    <tr>\n",
              "      <th>mean</th>\n",
              "      <td>2013.358199</td>\n",
              "      <td>5.873838e+04</td>\n",
              "      <td>5.278735</td>\n",
              "      <td>9.479468</td>\n",
              "    </tr>\n",
              "    <tr>\n",
              "      <th>std</th>\n",
              "      <td>3.269742</td>\n",
              "      <td>9.126884e+04</td>\n",
              "      <td>0.808840</td>\n",
              "      <td>11.187917</td>\n",
              "    </tr>\n",
              "    <tr>\n",
              "      <th>min</th>\n",
              "      <td>1998.000000</td>\n",
              "      <td>1.710000e+02</td>\n",
              "      <td>0.000000</td>\n",
              "      <td>0.440000</td>\n",
              "    </tr>\n",
              "    <tr>\n",
              "      <th>25%</th>\n",
              "      <td>2011.000000</td>\n",
              "      <td>3.400000e+04</td>\n",
              "      <td>5.000000</td>\n",
              "      <td>3.500000</td>\n",
              "    </tr>\n",
              "    <tr>\n",
              "      <th>50%</th>\n",
              "      <td>2014.000000</td>\n",
              "      <td>5.300000e+04</td>\n",
              "      <td>5.000000</td>\n",
              "      <td>5.640000</td>\n",
              "    </tr>\n",
              "    <tr>\n",
              "      <th>75%</th>\n",
              "      <td>2016.000000</td>\n",
              "      <td>7.300000e+04</td>\n",
              "      <td>5.000000</td>\n",
              "      <td>9.950000</td>\n",
              "    </tr>\n",
              "    <tr>\n",
              "      <th>max</th>\n",
              "      <td>2019.000000</td>\n",
              "      <td>6.500000e+06</td>\n",
              "      <td>10.000000</td>\n",
              "      <td>160.000000</td>\n",
              "    </tr>\n",
              "  </tbody>\n",
              "</table>\n",
              "</div>\n",
              "      <button class=\"colab-df-convert\" onclick=\"convertToInteractive('df-4d46071b-03b5-4400-bb1d-53511d264e79')\"\n",
              "              title=\"Convert this dataframe to an interactive table.\"\n",
              "              style=\"display:none;\">\n",
              "        \n",
              "  <svg xmlns=\"http://www.w3.org/2000/svg\" height=\"24px\"viewBox=\"0 0 24 24\"\n",
              "       width=\"24px\">\n",
              "    <path d=\"M0 0h24v24H0V0z\" fill=\"none\"/>\n",
              "    <path d=\"M18.56 5.44l.94 2.06.94-2.06 2.06-.94-2.06-.94-.94-2.06-.94 2.06-2.06.94zm-11 1L8.5 8.5l.94-2.06 2.06-.94-2.06-.94L8.5 2.5l-.94 2.06-2.06.94zm10 10l.94 2.06.94-2.06 2.06-.94-2.06-.94-.94-2.06-.94 2.06-2.06.94z\"/><path d=\"M17.41 7.96l-1.37-1.37c-.4-.4-.92-.59-1.43-.59-.52 0-1.04.2-1.43.59L10.3 9.45l-7.72 7.72c-.78.78-.78 2.05 0 2.83L4 21.41c.39.39.9.59 1.41.59.51 0 1.02-.2 1.41-.59l7.78-7.78 2.81-2.81c.8-.78.8-2.07 0-2.86zM5.41 20L4 18.59l7.72-7.72 1.47 1.35L5.41 20z\"/>\n",
              "  </svg>\n",
              "      </button>\n",
              "      \n",
              "  <style>\n",
              "    .colab-df-container {\n",
              "      display:flex;\n",
              "      flex-wrap:wrap;\n",
              "      gap: 12px;\n",
              "    }\n",
              "\n",
              "    .colab-df-convert {\n",
              "      background-color: #E8F0FE;\n",
              "      border: none;\n",
              "      border-radius: 50%;\n",
              "      cursor: pointer;\n",
              "      display: none;\n",
              "      fill: #1967D2;\n",
              "      height: 32px;\n",
              "      padding: 0 0 0 0;\n",
              "      width: 32px;\n",
              "    }\n",
              "\n",
              "    .colab-df-convert:hover {\n",
              "      background-color: #E2EBFA;\n",
              "      box-shadow: 0px 1px 2px rgba(60, 64, 67, 0.3), 0px 1px 3px 1px rgba(60, 64, 67, 0.15);\n",
              "      fill: #174EA6;\n",
              "    }\n",
              "\n",
              "    [theme=dark] .colab-df-convert {\n",
              "      background-color: #3B4455;\n",
              "      fill: #D2E3FC;\n",
              "    }\n",
              "\n",
              "    [theme=dark] .colab-df-convert:hover {\n",
              "      background-color: #434B5C;\n",
              "      box-shadow: 0px 1px 3px 1px rgba(0, 0, 0, 0.15);\n",
              "      filter: drop-shadow(0px 1px 2px rgba(0, 0, 0, 0.3));\n",
              "      fill: #FFFFFF;\n",
              "    }\n",
              "  </style>\n",
              "\n",
              "      <script>\n",
              "        const buttonEl =\n",
              "          document.querySelector('#df-4d46071b-03b5-4400-bb1d-53511d264e79 button.colab-df-convert');\n",
              "        buttonEl.style.display =\n",
              "          google.colab.kernel.accessAllowed ? 'block' : 'none';\n",
              "\n",
              "        async function convertToInteractive(key) {\n",
              "          const element = document.querySelector('#df-4d46071b-03b5-4400-bb1d-53511d264e79');\n",
              "          const dataTable =\n",
              "            await google.colab.kernel.invokeFunction('convertToInteractive',\n",
              "                                                     [key], {});\n",
              "          if (!dataTable) return;\n",
              "\n",
              "          const docLinkHtml = 'Like what you see? Visit the ' +\n",
              "            '<a target=\"_blank\" href=https://colab.research.google.com/notebooks/data_table.ipynb>data table notebook</a>'\n",
              "            + ' to learn more about interactive tables.';\n",
              "          element.innerHTML = '';\n",
              "          dataTable['output_type'] = 'display_data';\n",
              "          await google.colab.output.renderOutput(dataTable, element);\n",
              "          const docLink = document.createElement('div');\n",
              "          docLink.innerHTML = docLinkHtml;\n",
              "          element.appendChild(docLink);\n",
              "        }\n",
              "      </script>\n",
              "    </div>\n",
              "  </div>\n",
              "  "
            ],
            "text/plain": [
              "              Year  Kilometers_Driven        Seats        Price\n",
              "count  6019.000000       6.019000e+03  5977.000000  6019.000000\n",
              "mean   2013.358199       5.873838e+04     5.278735     9.479468\n",
              "std       3.269742       9.126884e+04     0.808840    11.187917\n",
              "min    1998.000000       1.710000e+02     0.000000     0.440000\n",
              "25%    2011.000000       3.400000e+04     5.000000     3.500000\n",
              "50%    2014.000000       5.300000e+04     5.000000     5.640000\n",
              "75%    2016.000000       7.300000e+04     5.000000     9.950000\n",
              "max    2019.000000       6.500000e+06    10.000000   160.000000"
            ]
          },
          "metadata": {},
          "execution_count": 78
        }
      ],
      "source": [
        "train.describe()"
      ]
    },
    {
      "cell_type": "code",
      "execution_count": 79,
      "metadata": {
        "colab": {
          "base_uri": "https://localhost:8080/"
        },
        "id": "cSDFGeHfpyTT",
        "outputId": "ea9f64c7-52f5-45e7-b636-c753bd303145"
      },
      "outputs": [
        {
          "output_type": "stream",
          "name": "stdout",
          "text": [
            "['Jaipur' 'Pune' 'Hyderabad' 'Delhi' 'Kolkata' 'Mumbai' 'Kochi'\n",
            " 'Bangalore' 'Coimbatore' 'Ahmedabad' 'Chennai']\n",
            "['Petrol' 'Diesel' 'CNG' 'LPG' 'Electric']\n",
            "['Manual' 'Automatic']\n",
            "['First' 'Second' 'Fourth & Above' 'Third']\n"
          ]
        }
      ],
      "source": [
        "print(train['Location'].unique())\n",
        "print(train['Fuel_Type'].unique())\n",
        "print(train['Transmission'].unique())\n",
        "print(train['Owner_Type'].unique())"
      ]
    },
    {
      "cell_type": "markdown",
      "metadata": {
        "id": "Lty6Xnx4pyTT"
      },
      "source": [
        "<b>Let's Drop some Rows which contains NULL values.</b>"
      ]
    },
    {
      "cell_type": "code",
      "execution_count": 80,
      "metadata": {
        "colab": {
          "base_uri": "https://localhost:8080/"
        },
        "id": "CeY8cj7npyTU",
        "outputId": "72d529ad-2118-4a0a-8b22-35ecfdf9a04e"
      },
      "outputs": [
        {
          "output_type": "stream",
          "name": "stdout",
          "text": [
            "Shape of train data Before dropping any Row:  (6019, 12)\n",
            "Shape of train data After dropping Rows with NULL values in Mileage:  (6017, 12)\n",
            "Shape of train data After dropping Rows with NULL values in Engine :  (5981, 12)\n",
            "Shape of train data After dropping Rows with NULL values in Power  :  (5981, 12)\n",
            "Shape of train data After dropping Rows with NULL values in Seats  :  (5975, 12)\n"
          ]
        }
      ],
      "source": [
        "print(\"Shape of train data Before dropping any Row: \",train.shape)\n",
        "train = train[train['Mileage'].notna()]\n",
        "print(\"Shape of train data After dropping Rows with NULL values in Mileage: \",train.shape)\n",
        "train = train[train['Engine'].notna()]\n",
        "print(\"Shape of train data After dropping Rows with NULL values in Engine : \",train.shape)\n",
        "train = train[train['Power'].notna()]\n",
        "print(\"Shape of train data After dropping Rows with NULL values in Power  : \",train.shape)\n",
        "train = train[train['Seats'].notna()]\n",
        "print(\"Shape of train data After dropping Rows with NULL values in Seats  : \",train.shape)"
      ]
    },
    {
      "cell_type": "markdown",
      "metadata": {
        "id": "yqzwFyIypyTU"
      },
      "source": [
        "So, in total I have 5975 Rows now to work forward. I droped 44 rows."
      ]
    },
    {
      "cell_type": "code",
      "execution_count": 81,
      "metadata": {
        "id": "StIZrpCfpyTV"
      },
      "outputs": [],
      "source": [
        "train = train.reset_index(drop=True)"
      ]
    },
    {
      "cell_type": "markdown",
      "metadata": {
        "id": "6grvLvwjpyTV"
      },
      "source": [
        "<b>Well after using .notna() we have many absent indexes (Eg: If row no 47 was droped then after 46 we have 48 index), so I reset the index and droping the present index.</b>"
      ]
    },
    {
      "cell_type": "code",
      "execution_count": null,
      "metadata": {
        "colab": {
          "base_uri": "https://localhost:8080/",
          "height": 333
        },
        "id": "UOK2qkD_pyTV",
        "outputId": "0c945a16-4a23-44df-defd-54dc66a9e79c"
      },
      "outputs": [
        {
          "output_type": "execute_result",
          "data": {
            "text/html": [
              "\n",
              "  <div id=\"df-66d77dfb-ff45-48fa-b4c0-d2debe5e023d\">\n",
              "    <div class=\"colab-df-container\">\n",
              "      <div>\n",
              "<style scoped>\n",
              "    .dataframe tbody tr th:only-of-type {\n",
              "        vertical-align: middle;\n",
              "    }\n",
              "\n",
              "    .dataframe tbody tr th {\n",
              "        vertical-align: top;\n",
              "    }\n",
              "\n",
              "    .dataframe thead th {\n",
              "        text-align: right;\n",
              "    }\n",
              "</style>\n",
              "<table border=\"1\" class=\"dataframe\">\n",
              "  <thead>\n",
              "    <tr style=\"text-align: right;\">\n",
              "      <th></th>\n",
              "      <th>Name</th>\n",
              "      <th>Location</th>\n",
              "      <th>Year</th>\n",
              "      <th>Kilometers_Driven</th>\n",
              "      <th>Fuel_Type</th>\n",
              "      <th>Transmission</th>\n",
              "      <th>Owner_Type</th>\n",
              "      <th>Mileage</th>\n",
              "      <th>Engine</th>\n",
              "      <th>Power</th>\n",
              "      <th>Seats</th>\n",
              "      <th>Price</th>\n",
              "    </tr>\n",
              "  </thead>\n",
              "  <tbody>\n",
              "    <tr>\n",
              "      <th>0</th>\n",
              "      <td>Audi A4 3.0 TDI Quattro</td>\n",
              "      <td>Bangalore</td>\n",
              "      <td>2014</td>\n",
              "      <td>30000</td>\n",
              "      <td>Diesel</td>\n",
              "      <td>Automatic</td>\n",
              "      <td>First</td>\n",
              "      <td>14.94 kmpl</td>\n",
              "      <td>2967 CC</td>\n",
              "      <td>241.4 bhp</td>\n",
              "      <td>5.0</td>\n",
              "      <td>24.5</td>\n",
              "    </tr>\n",
              "    <tr>\n",
              "      <th>1</th>\n",
              "      <td>Audi A6 2.7 TDI</td>\n",
              "      <td>Bangalore</td>\n",
              "      <td>2013</td>\n",
              "      <td>90000</td>\n",
              "      <td>Diesel</td>\n",
              "      <td>Automatic</td>\n",
              "      <td>Second</td>\n",
              "      <td>12.4 kmpl</td>\n",
              "      <td>2698 CC</td>\n",
              "      <td>179.5 bhp</td>\n",
              "      <td>5.0</td>\n",
              "      <td>22.5</td>\n",
              "    </tr>\n",
              "    <tr>\n",
              "      <th>2</th>\n",
              "      <td>Renault Duster 110PS Diesel RxZ Plus</td>\n",
              "      <td>Hyderabad</td>\n",
              "      <td>2013</td>\n",
              "      <td>42000</td>\n",
              "      <td>Diesel</td>\n",
              "      <td>Manual</td>\n",
              "      <td>First</td>\n",
              "      <td>19.64 kmpl</td>\n",
              "      <td>1461 CC</td>\n",
              "      <td>108.45 bhp</td>\n",
              "      <td>5.0</td>\n",
              "      <td>8.0</td>\n",
              "    </tr>\n",
              "    <tr>\n",
              "      <th>3</th>\n",
              "      <td>Hyundai Verna 1.6 VTVT</td>\n",
              "      <td>Kolkata</td>\n",
              "      <td>2012</td>\n",
              "      <td>24000</td>\n",
              "      <td>Petrol</td>\n",
              "      <td>Manual</td>\n",
              "      <td>Second</td>\n",
              "      <td>17.01 kmpl</td>\n",
              "      <td>1591 CC</td>\n",
              "      <td>121.3 bhp</td>\n",
              "      <td>5.0</td>\n",
              "      <td>6.2</td>\n",
              "    </tr>\n",
              "    <tr>\n",
              "      <th>4</th>\n",
              "      <td>Maruti Omni MPI CARGO BSIV</td>\n",
              "      <td>Kolkata</td>\n",
              "      <td>2015</td>\n",
              "      <td>23000</td>\n",
              "      <td>Petrol</td>\n",
              "      <td>Manual</td>\n",
              "      <td>First</td>\n",
              "      <td>16.8 kmpl</td>\n",
              "      <td>796 CC</td>\n",
              "      <td>34.2 bhp</td>\n",
              "      <td>5.0</td>\n",
              "      <td>1.5</td>\n",
              "    </tr>\n",
              "  </tbody>\n",
              "</table>\n",
              "</div>\n",
              "      <button class=\"colab-df-convert\" onclick=\"convertToInteractive('df-66d77dfb-ff45-48fa-b4c0-d2debe5e023d')\"\n",
              "              title=\"Convert this dataframe to an interactive table.\"\n",
              "              style=\"display:none;\">\n",
              "        \n",
              "  <svg xmlns=\"http://www.w3.org/2000/svg\" height=\"24px\"viewBox=\"0 0 24 24\"\n",
              "       width=\"24px\">\n",
              "    <path d=\"M0 0h24v24H0V0z\" fill=\"none\"/>\n",
              "    <path d=\"M18.56 5.44l.94 2.06.94-2.06 2.06-.94-2.06-.94-.94-2.06-.94 2.06-2.06.94zm-11 1L8.5 8.5l.94-2.06 2.06-.94-2.06-.94L8.5 2.5l-.94 2.06-2.06.94zm10 10l.94 2.06.94-2.06 2.06-.94-2.06-.94-.94-2.06-.94 2.06-2.06.94z\"/><path d=\"M17.41 7.96l-1.37-1.37c-.4-.4-.92-.59-1.43-.59-.52 0-1.04.2-1.43.59L10.3 9.45l-7.72 7.72c-.78.78-.78 2.05 0 2.83L4 21.41c.39.39.9.59 1.41.59.51 0 1.02-.2 1.41-.59l7.78-7.78 2.81-2.81c.8-.78.8-2.07 0-2.86zM5.41 20L4 18.59l7.72-7.72 1.47 1.35L5.41 20z\"/>\n",
              "  </svg>\n",
              "      </button>\n",
              "      \n",
              "  <style>\n",
              "    .colab-df-container {\n",
              "      display:flex;\n",
              "      flex-wrap:wrap;\n",
              "      gap: 12px;\n",
              "    }\n",
              "\n",
              "    .colab-df-convert {\n",
              "      background-color: #E8F0FE;\n",
              "      border: none;\n",
              "      border-radius: 50%;\n",
              "      cursor: pointer;\n",
              "      display: none;\n",
              "      fill: #1967D2;\n",
              "      height: 32px;\n",
              "      padding: 0 0 0 0;\n",
              "      width: 32px;\n",
              "    }\n",
              "\n",
              "    .colab-df-convert:hover {\n",
              "      background-color: #E2EBFA;\n",
              "      box-shadow: 0px 1px 2px rgba(60, 64, 67, 0.3), 0px 1px 3px 1px rgba(60, 64, 67, 0.15);\n",
              "      fill: #174EA6;\n",
              "    }\n",
              "\n",
              "    [theme=dark] .colab-df-convert {\n",
              "      background-color: #3B4455;\n",
              "      fill: #D2E3FC;\n",
              "    }\n",
              "\n",
              "    [theme=dark] .colab-df-convert:hover {\n",
              "      background-color: #434B5C;\n",
              "      box-shadow: 0px 1px 3px 1px rgba(0, 0, 0, 0.15);\n",
              "      filter: drop-shadow(0px 1px 2px rgba(0, 0, 0, 0.3));\n",
              "      fill: #FFFFFF;\n",
              "    }\n",
              "  </style>\n",
              "\n",
              "      <script>\n",
              "        const buttonEl =\n",
              "          document.querySelector('#df-66d77dfb-ff45-48fa-b4c0-d2debe5e023d button.colab-df-convert');\n",
              "        buttonEl.style.display =\n",
              "          google.colab.kernel.accessAllowed ? 'block' : 'none';\n",
              "\n",
              "        async function convertToInteractive(key) {\n",
              "          const element = document.querySelector('#df-66d77dfb-ff45-48fa-b4c0-d2debe5e023d');\n",
              "          const dataTable =\n",
              "            await google.colab.kernel.invokeFunction('convertToInteractive',\n",
              "                                                     [key], {});\n",
              "          if (!dataTable) return;\n",
              "\n",
              "          const docLinkHtml = 'Like what you see? Visit the ' +\n",
              "            '<a target=\"_blank\" href=https://colab.research.google.com/notebooks/data_table.ipynb>data table notebook</a>'\n",
              "            + ' to learn more about interactive tables.';\n",
              "          element.innerHTML = '';\n",
              "          dataTable['output_type'] = 'display_data';\n",
              "          await google.colab.output.renderOutput(dataTable, element);\n",
              "          const docLink = document.createElement('div');\n",
              "          docLink.innerHTML = docLinkHtml;\n",
              "          element.appendChild(docLink);\n",
              "        }\n",
              "      </script>\n",
              "    </div>\n",
              "  </div>\n",
              "  "
            ],
            "text/plain": [
              "                                   Name   Location  ...  Seats  Price\n",
              "0               Audi A4 3.0 TDI Quattro  Bangalore  ...    5.0   24.5\n",
              "1                       Audi A6 2.7 TDI  Bangalore  ...    5.0   22.5\n",
              "2  Renault Duster 110PS Diesel RxZ Plus  Hyderabad  ...    5.0    8.0\n",
              "3                Hyundai Verna 1.6 VTVT    Kolkata  ...    5.0    6.2\n",
              "4            Maruti Omni MPI CARGO BSIV    Kolkata  ...    5.0    1.5\n",
              "\n",
              "[5 rows x 12 columns]"
            ]
          },
          "metadata": {},
          "execution_count": 8
        }
      ],
      "source": [
        "train.head()"
      ]
    },
    {
      "cell_type": "markdown",
      "metadata": {
        "id": "JFaaIk3ZpyTW"
      },
      "source": [
        "<b>Let's remove the units (kmpl, km/kg, cc, bhp) from the columns(Mileage, Engine, Power) for easy computations on these columns. \n",
        "Also we will be splitting name column into two columns namely brand and model.</b>"
      ]
    },
    {
      "cell_type": "code",
      "execution_count": 84,
      "metadata": {
        "id": "Pva9lllapyTW"
      },
      "outputs": [],
      "source": [
        "for i in range(train.shape[0]):\n",
        "    train.at[i, 'Brand'] = train['Name'][i].split()[0]\n",
        "    train.at[i, 'Mileage'] = train['Mileage'][i].split()[0]\n",
        "    train.at[i, 'Engine'] = train['Engine'][i].split()[0]\n",
        "    train.at[i, 'Power'] = train['Power'][i].split()[0]\n",
        "    train.at[i, 'Model']=''\n",
        "    for j in np.arange(1,len(train['Name'][i].split())):\n",
        "        train.at[i, 'Model']=train.at[i, 'Model'] + train['Name'][i].split()[j]\n",
        "train.drop(train.columns[0], axis=1, inplace=True)\n"
      ]
    },
    {
      "cell_type": "code",
      "execution_count": 85,
      "metadata": {
        "colab": {
          "base_uri": "https://localhost:8080/"
        },
        "id": "4Lw4wtIrpyTX",
        "outputId": "ab0991d4-1221-4918-c8fe-535e786920b0"
      },
      "outputs": [
        {
          "output_type": "stream",
          "name": "stdout",
          "text": [
            "['Hyundai' 'Toyota' 'Skoda' 'Maruti' 'Mahindra' 'Honda' 'Ford'\n",
            " 'Mitsubishi' 'Renault' 'Nissan' 'Volkswagen' 'Audi' 'BMW' 'Mercedes-Benz'\n",
            " 'Tata' 'Land' 'Volvo' 'Chevrolet' 'Fiat' 'Porsche' 'Jaguar' 'Datsun'\n",
            " 'Mini' 'Jeep' 'Ambassador' 'ISUZU' 'Force' 'Smart' 'Lamborghini'\n",
            " 'Bentley' 'Isuzu']\n"
          ]
        }
      ],
      "source": [
        "print(train['Brand'].unique())"
      ]
    },
    {
      "cell_type": "markdown",
      "metadata": {
        "id": "NrsCAPXTpyTX"
      },
      "source": [
        "<b>Merging Isuzu and ISUZU</b>"
      ]
    },
    {
      "cell_type": "code",
      "execution_count": 86,
      "metadata": {
        "id": "rJzA8hwypyTX"
      },
      "outputs": [],
      "source": [
        "train.loc[train.Brand=='Isuzu','Brand']='ISUZU'"
      ]
    },
    {
      "cell_type": "code",
      "execution_count": 87,
      "metadata": {
        "colab": {
          "base_uri": "https://localhost:8080/",
          "height": 268
        },
        "id": "kBauPv7dpyTY",
        "outputId": "b611911a-1104-40af-f6d1-21dc30d0e9f1"
      },
      "outputs": [
        {
          "output_type": "execute_result",
          "data": {
            "text/html": [
              "\n",
              "  <div id=\"df-f4e69599-599e-44da-a2e6-dd5d598d4881\">\n",
              "    <div class=\"colab-df-container\">\n",
              "      <div>\n",
              "<style scoped>\n",
              "    .dataframe tbody tr th:only-of-type {\n",
              "        vertical-align: middle;\n",
              "    }\n",
              "\n",
              "    .dataframe tbody tr th {\n",
              "        vertical-align: top;\n",
              "    }\n",
              "\n",
              "    .dataframe thead th {\n",
              "        text-align: right;\n",
              "    }\n",
              "</style>\n",
              "<table border=\"1\" class=\"dataframe\">\n",
              "  <thead>\n",
              "    <tr style=\"text-align: right;\">\n",
              "      <th></th>\n",
              "      <th>Location</th>\n",
              "      <th>Year</th>\n",
              "      <th>Kilometers_Driven</th>\n",
              "      <th>Fuel_Type</th>\n",
              "      <th>Transmission</th>\n",
              "      <th>Owner_Type</th>\n",
              "      <th>Mileage</th>\n",
              "      <th>Engine</th>\n",
              "      <th>Power</th>\n",
              "      <th>Seats</th>\n",
              "      <th>Price</th>\n",
              "      <th>Brand</th>\n",
              "      <th>Model</th>\n",
              "    </tr>\n",
              "  </thead>\n",
              "  <tbody>\n",
              "    <tr>\n",
              "      <th>0</th>\n",
              "      <td>Jaipur</td>\n",
              "      <td>2013</td>\n",
              "      <td>46230</td>\n",
              "      <td>Petrol</td>\n",
              "      <td>Manual</td>\n",
              "      <td>First</td>\n",
              "      <td>19.81</td>\n",
              "      <td>1086</td>\n",
              "      <td>68.05</td>\n",
              "      <td>5.0</td>\n",
              "      <td>3.10</td>\n",
              "      <td>Hyundai</td>\n",
              "      <td>i10Era</td>\n",
              "    </tr>\n",
              "    <tr>\n",
              "      <th>1</th>\n",
              "      <td>Pune</td>\n",
              "      <td>2009</td>\n",
              "      <td>118000</td>\n",
              "      <td>Diesel</td>\n",
              "      <td>Manual</td>\n",
              "      <td>First</td>\n",
              "      <td>12.8</td>\n",
              "      <td>2494</td>\n",
              "      <td>102</td>\n",
              "      <td>8.0</td>\n",
              "      <td>4.50</td>\n",
              "      <td>Toyota</td>\n",
              "      <td>Innova2.5G(Diesel)7SeaterBSIV</td>\n",
              "    </tr>\n",
              "    <tr>\n",
              "      <th>2</th>\n",
              "      <td>Hyderabad</td>\n",
              "      <td>2008</td>\n",
              "      <td>122397</td>\n",
              "      <td>Diesel</td>\n",
              "      <td>Manual</td>\n",
              "      <td>First</td>\n",
              "      <td>17.5</td>\n",
              "      <td>1896</td>\n",
              "      <td>106</td>\n",
              "      <td>5.0</td>\n",
              "      <td>4.40</td>\n",
              "      <td>Skoda</td>\n",
              "      <td>LauraAmbiente</td>\n",
              "    </tr>\n",
              "    <tr>\n",
              "      <th>3</th>\n",
              "      <td>Delhi</td>\n",
              "      <td>2014</td>\n",
              "      <td>79870</td>\n",
              "      <td>Diesel</td>\n",
              "      <td>Manual</td>\n",
              "      <td>First</td>\n",
              "      <td>20.77</td>\n",
              "      <td>1248</td>\n",
              "      <td>88.76</td>\n",
              "      <td>7.0</td>\n",
              "      <td>5.35</td>\n",
              "      <td>Maruti</td>\n",
              "      <td>ErtigaVDI</td>\n",
              "    </tr>\n",
              "    <tr>\n",
              "      <th>4</th>\n",
              "      <td>Kolkata</td>\n",
              "      <td>2011</td>\n",
              "      <td>34994</td>\n",
              "      <td>Diesel</td>\n",
              "      <td>Manual</td>\n",
              "      <td>First</td>\n",
              "      <td>22.32</td>\n",
              "      <td>1582</td>\n",
              "      <td>126.32</td>\n",
              "      <td>5.0</td>\n",
              "      <td>3.90</td>\n",
              "      <td>Hyundai</td>\n",
              "      <td>Verna1.6SX</td>\n",
              "    </tr>\n",
              "  </tbody>\n",
              "</table>\n",
              "</div>\n",
              "      <button class=\"colab-df-convert\" onclick=\"convertToInteractive('df-f4e69599-599e-44da-a2e6-dd5d598d4881')\"\n",
              "              title=\"Convert this dataframe to an interactive table.\"\n",
              "              style=\"display:none;\">\n",
              "        \n",
              "  <svg xmlns=\"http://www.w3.org/2000/svg\" height=\"24px\"viewBox=\"0 0 24 24\"\n",
              "       width=\"24px\">\n",
              "    <path d=\"M0 0h24v24H0V0z\" fill=\"none\"/>\n",
              "    <path d=\"M18.56 5.44l.94 2.06.94-2.06 2.06-.94-2.06-.94-.94-2.06-.94 2.06-2.06.94zm-11 1L8.5 8.5l.94-2.06 2.06-.94-2.06-.94L8.5 2.5l-.94 2.06-2.06.94zm10 10l.94 2.06.94-2.06 2.06-.94-2.06-.94-.94-2.06-.94 2.06-2.06.94z\"/><path d=\"M17.41 7.96l-1.37-1.37c-.4-.4-.92-.59-1.43-.59-.52 0-1.04.2-1.43.59L10.3 9.45l-7.72 7.72c-.78.78-.78 2.05 0 2.83L4 21.41c.39.39.9.59 1.41.59.51 0 1.02-.2 1.41-.59l7.78-7.78 2.81-2.81c.8-.78.8-2.07 0-2.86zM5.41 20L4 18.59l7.72-7.72 1.47 1.35L5.41 20z\"/>\n",
              "  </svg>\n",
              "      </button>\n",
              "      \n",
              "  <style>\n",
              "    .colab-df-container {\n",
              "      display:flex;\n",
              "      flex-wrap:wrap;\n",
              "      gap: 12px;\n",
              "    }\n",
              "\n",
              "    .colab-df-convert {\n",
              "      background-color: #E8F0FE;\n",
              "      border: none;\n",
              "      border-radius: 50%;\n",
              "      cursor: pointer;\n",
              "      display: none;\n",
              "      fill: #1967D2;\n",
              "      height: 32px;\n",
              "      padding: 0 0 0 0;\n",
              "      width: 32px;\n",
              "    }\n",
              "\n",
              "    .colab-df-convert:hover {\n",
              "      background-color: #E2EBFA;\n",
              "      box-shadow: 0px 1px 2px rgba(60, 64, 67, 0.3), 0px 1px 3px 1px rgba(60, 64, 67, 0.15);\n",
              "      fill: #174EA6;\n",
              "    }\n",
              "\n",
              "    [theme=dark] .colab-df-convert {\n",
              "      background-color: #3B4455;\n",
              "      fill: #D2E3FC;\n",
              "    }\n",
              "\n",
              "    [theme=dark] .colab-df-convert:hover {\n",
              "      background-color: #434B5C;\n",
              "      box-shadow: 0px 1px 3px 1px rgba(0, 0, 0, 0.15);\n",
              "      filter: drop-shadow(0px 1px 2px rgba(0, 0, 0, 0.3));\n",
              "      fill: #FFFFFF;\n",
              "    }\n",
              "  </style>\n",
              "\n",
              "      <script>\n",
              "        const buttonEl =\n",
              "          document.querySelector('#df-f4e69599-599e-44da-a2e6-dd5d598d4881 button.colab-df-convert');\n",
              "        buttonEl.style.display =\n",
              "          google.colab.kernel.accessAllowed ? 'block' : 'none';\n",
              "\n",
              "        async function convertToInteractive(key) {\n",
              "          const element = document.querySelector('#df-f4e69599-599e-44da-a2e6-dd5d598d4881');\n",
              "          const dataTable =\n",
              "            await google.colab.kernel.invokeFunction('convertToInteractive',\n",
              "                                                     [key], {});\n",
              "          if (!dataTable) return;\n",
              "\n",
              "          const docLinkHtml = 'Like what you see? Visit the ' +\n",
              "            '<a target=\"_blank\" href=https://colab.research.google.com/notebooks/data_table.ipynb>data table notebook</a>'\n",
              "            + ' to learn more about interactive tables.';\n",
              "          element.innerHTML = '';\n",
              "          dataTable['output_type'] = 'display_data';\n",
              "          await google.colab.output.renderOutput(dataTable, element);\n",
              "          const docLink = document.createElement('div');\n",
              "          docLink.innerHTML = docLinkHtml;\n",
              "          element.appendChild(docLink);\n",
              "        }\n",
              "      </script>\n",
              "    </div>\n",
              "  </div>\n",
              "  "
            ],
            "text/plain": [
              "    Location  Year  ...    Brand                          Model\n",
              "0     Jaipur  2013  ...  Hyundai                         i10Era\n",
              "1       Pune  2009  ...   Toyota  Innova2.5G(Diesel)7SeaterBSIV\n",
              "2  Hyderabad  2008  ...    Skoda                  LauraAmbiente\n",
              "3      Delhi  2014  ...   Maruti                      ErtigaVDI\n",
              "4    Kolkata  2011  ...  Hyundai                     Verna1.6SX\n",
              "\n",
              "[5 rows x 13 columns]"
            ]
          },
          "metadata": {},
          "execution_count": 87
        }
      ],
      "source": [
        "train.head()"
      ]
    },
    {
      "cell_type": "markdown",
      "metadata": {
        "id": "eRNRJD0WpyTY"
      },
      "source": [
        "<b>Bringing Company and model column to the beginning.</b>"
      ]
    },
    {
      "cell_type": "code",
      "execution_count": 88,
      "metadata": {
        "id": "JlimA5gupyTY"
      },
      "outputs": [],
      "source": [
        "col_name='Model'\n",
        "first_col=train.pop(col_name)\n",
        "train.insert(0,col_name,first_col)\n",
        "col_name='Brand'\n",
        "first_col=train.pop(col_name)\n",
        "train.insert(0,col_name,first_col)"
      ]
    },
    {
      "cell_type": "code",
      "execution_count": null,
      "metadata": {
        "colab": {
          "base_uri": "https://localhost:8080/",
          "height": 268
        },
        "id": "0bC8GZnspyTZ",
        "outputId": "cdda84d0-3780-4fe8-f043-3bf47cf74ac7"
      },
      "outputs": [
        {
          "output_type": "execute_result",
          "data": {
            "text/html": [
              "\n",
              "  <div id=\"df-05d8df4e-a288-419e-93f5-c7752474f9b7\">\n",
              "    <div class=\"colab-df-container\">\n",
              "      <div>\n",
              "<style scoped>\n",
              "    .dataframe tbody tr th:only-of-type {\n",
              "        vertical-align: middle;\n",
              "    }\n",
              "\n",
              "    .dataframe tbody tr th {\n",
              "        vertical-align: top;\n",
              "    }\n",
              "\n",
              "    .dataframe thead th {\n",
              "        text-align: right;\n",
              "    }\n",
              "</style>\n",
              "<table border=\"1\" class=\"dataframe\">\n",
              "  <thead>\n",
              "    <tr style=\"text-align: right;\">\n",
              "      <th></th>\n",
              "      <th>Brand</th>\n",
              "      <th>Model</th>\n",
              "      <th>Location</th>\n",
              "      <th>Year</th>\n",
              "      <th>Kilometers_Driven</th>\n",
              "      <th>Fuel_Type</th>\n",
              "      <th>Transmission</th>\n",
              "      <th>Owner_Type</th>\n",
              "      <th>Mileage</th>\n",
              "      <th>Engine</th>\n",
              "      <th>Power</th>\n",
              "      <th>Seats</th>\n",
              "      <th>Price</th>\n",
              "    </tr>\n",
              "  </thead>\n",
              "  <tbody>\n",
              "    <tr>\n",
              "      <th>0</th>\n",
              "      <td>Audi</td>\n",
              "      <td>A43.0TDIQuattro</td>\n",
              "      <td>Bangalore</td>\n",
              "      <td>2014</td>\n",
              "      <td>30000</td>\n",
              "      <td>Diesel</td>\n",
              "      <td>Automatic</td>\n",
              "      <td>First</td>\n",
              "      <td>14.94</td>\n",
              "      <td>2967</td>\n",
              "      <td>241.4</td>\n",
              "      <td>5.0</td>\n",
              "      <td>24.5</td>\n",
              "    </tr>\n",
              "    <tr>\n",
              "      <th>1</th>\n",
              "      <td>Audi</td>\n",
              "      <td>A62.7TDI</td>\n",
              "      <td>Bangalore</td>\n",
              "      <td>2013</td>\n",
              "      <td>90000</td>\n",
              "      <td>Diesel</td>\n",
              "      <td>Automatic</td>\n",
              "      <td>Second</td>\n",
              "      <td>12.4</td>\n",
              "      <td>2698</td>\n",
              "      <td>179.5</td>\n",
              "      <td>5.0</td>\n",
              "      <td>22.5</td>\n",
              "    </tr>\n",
              "    <tr>\n",
              "      <th>2</th>\n",
              "      <td>Renault</td>\n",
              "      <td>Duster110PSDieselRxZPlus</td>\n",
              "      <td>Hyderabad</td>\n",
              "      <td>2013</td>\n",
              "      <td>42000</td>\n",
              "      <td>Diesel</td>\n",
              "      <td>Manual</td>\n",
              "      <td>First</td>\n",
              "      <td>19.64</td>\n",
              "      <td>1461</td>\n",
              "      <td>108.45</td>\n",
              "      <td>5.0</td>\n",
              "      <td>8.0</td>\n",
              "    </tr>\n",
              "    <tr>\n",
              "      <th>3</th>\n",
              "      <td>Hyundai</td>\n",
              "      <td>Verna1.6VTVT</td>\n",
              "      <td>Kolkata</td>\n",
              "      <td>2012</td>\n",
              "      <td>24000</td>\n",
              "      <td>Petrol</td>\n",
              "      <td>Manual</td>\n",
              "      <td>Second</td>\n",
              "      <td>17.01</td>\n",
              "      <td>1591</td>\n",
              "      <td>121.3</td>\n",
              "      <td>5.0</td>\n",
              "      <td>6.2</td>\n",
              "    </tr>\n",
              "    <tr>\n",
              "      <th>4</th>\n",
              "      <td>Maruti</td>\n",
              "      <td>OmniMPICARGOBSIV</td>\n",
              "      <td>Kolkata</td>\n",
              "      <td>2015</td>\n",
              "      <td>23000</td>\n",
              "      <td>Petrol</td>\n",
              "      <td>Manual</td>\n",
              "      <td>First</td>\n",
              "      <td>16.8</td>\n",
              "      <td>796</td>\n",
              "      <td>34.2</td>\n",
              "      <td>5.0</td>\n",
              "      <td>1.5</td>\n",
              "    </tr>\n",
              "  </tbody>\n",
              "</table>\n",
              "</div>\n",
              "      <button class=\"colab-df-convert\" onclick=\"convertToInteractive('df-05d8df4e-a288-419e-93f5-c7752474f9b7')\"\n",
              "              title=\"Convert this dataframe to an interactive table.\"\n",
              "              style=\"display:none;\">\n",
              "        \n",
              "  <svg xmlns=\"http://www.w3.org/2000/svg\" height=\"24px\"viewBox=\"0 0 24 24\"\n",
              "       width=\"24px\">\n",
              "    <path d=\"M0 0h24v24H0V0z\" fill=\"none\"/>\n",
              "    <path d=\"M18.56 5.44l.94 2.06.94-2.06 2.06-.94-2.06-.94-.94-2.06-.94 2.06-2.06.94zm-11 1L8.5 8.5l.94-2.06 2.06-.94-2.06-.94L8.5 2.5l-.94 2.06-2.06.94zm10 10l.94 2.06.94-2.06 2.06-.94-2.06-.94-.94-2.06-.94 2.06-2.06.94z\"/><path d=\"M17.41 7.96l-1.37-1.37c-.4-.4-.92-.59-1.43-.59-.52 0-1.04.2-1.43.59L10.3 9.45l-7.72 7.72c-.78.78-.78 2.05 0 2.83L4 21.41c.39.39.9.59 1.41.59.51 0 1.02-.2 1.41-.59l7.78-7.78 2.81-2.81c.8-.78.8-2.07 0-2.86zM5.41 20L4 18.59l7.72-7.72 1.47 1.35L5.41 20z\"/>\n",
              "  </svg>\n",
              "      </button>\n",
              "      \n",
              "  <style>\n",
              "    .colab-df-container {\n",
              "      display:flex;\n",
              "      flex-wrap:wrap;\n",
              "      gap: 12px;\n",
              "    }\n",
              "\n",
              "    .colab-df-convert {\n",
              "      background-color: #E8F0FE;\n",
              "      border: none;\n",
              "      border-radius: 50%;\n",
              "      cursor: pointer;\n",
              "      display: none;\n",
              "      fill: #1967D2;\n",
              "      height: 32px;\n",
              "      padding: 0 0 0 0;\n",
              "      width: 32px;\n",
              "    }\n",
              "\n",
              "    .colab-df-convert:hover {\n",
              "      background-color: #E2EBFA;\n",
              "      box-shadow: 0px 1px 2px rgba(60, 64, 67, 0.3), 0px 1px 3px 1px rgba(60, 64, 67, 0.15);\n",
              "      fill: #174EA6;\n",
              "    }\n",
              "\n",
              "    [theme=dark] .colab-df-convert {\n",
              "      background-color: #3B4455;\n",
              "      fill: #D2E3FC;\n",
              "    }\n",
              "\n",
              "    [theme=dark] .colab-df-convert:hover {\n",
              "      background-color: #434B5C;\n",
              "      box-shadow: 0px 1px 3px 1px rgba(0, 0, 0, 0.15);\n",
              "      filter: drop-shadow(0px 1px 2px rgba(0, 0, 0, 0.3));\n",
              "      fill: #FFFFFF;\n",
              "    }\n",
              "  </style>\n",
              "\n",
              "      <script>\n",
              "        const buttonEl =\n",
              "          document.querySelector('#df-05d8df4e-a288-419e-93f5-c7752474f9b7 button.colab-df-convert');\n",
              "        buttonEl.style.display =\n",
              "          google.colab.kernel.accessAllowed ? 'block' : 'none';\n",
              "\n",
              "        async function convertToInteractive(key) {\n",
              "          const element = document.querySelector('#df-05d8df4e-a288-419e-93f5-c7752474f9b7');\n",
              "          const dataTable =\n",
              "            await google.colab.kernel.invokeFunction('convertToInteractive',\n",
              "                                                     [key], {});\n",
              "          if (!dataTable) return;\n",
              "\n",
              "          const docLinkHtml = 'Like what you see? Visit the ' +\n",
              "            '<a target=\"_blank\" href=https://colab.research.google.com/notebooks/data_table.ipynb>data table notebook</a>'\n",
              "            + ' to learn more about interactive tables.';\n",
              "          element.innerHTML = '';\n",
              "          dataTable['output_type'] = 'display_data';\n",
              "          await google.colab.output.renderOutput(dataTable, element);\n",
              "          const docLink = document.createElement('div');\n",
              "          docLink.innerHTML = docLinkHtml;\n",
              "          element.appendChild(docLink);\n",
              "        }\n",
              "      </script>\n",
              "    </div>\n",
              "  </div>\n",
              "  "
            ],
            "text/plain": [
              "     Brand                     Model   Location  ...   Power  Seats Price\n",
              "0     Audi           A43.0TDIQuattro  Bangalore  ...   241.4    5.0  24.5\n",
              "1     Audi                  A62.7TDI  Bangalore  ...   179.5    5.0  22.5\n",
              "2  Renault  Duster110PSDieselRxZPlus  Hyderabad  ...  108.45    5.0   8.0\n",
              "3  Hyundai              Verna1.6VTVT    Kolkata  ...   121.3    5.0   6.2\n",
              "4   Maruti          OmniMPICARGOBSIV    Kolkata  ...    34.2    5.0   1.5\n",
              "\n",
              "[5 rows x 13 columns]"
            ]
          },
          "metadata": {},
          "execution_count": 14
        }
      ],
      "source": [
        "train.head()"
      ]
    },
    {
      "cell_type": "markdown",
      "metadata": {
        "id": "T6vhC1-OpyTZ"
      },
      "source": [
        "<b>Converting mileage and engine values to float</b>"
      ]
    },
    {
      "cell_type": "code",
      "execution_count": 89,
      "metadata": {
        "id": "nteAI0G_pyTZ"
      },
      "outputs": [],
      "source": [
        "train['Mileage'] = train['Mileage'].astype(float)\n",
        "train['Engine'] = train['Engine'].astype(float)"
      ]
    },
    {
      "cell_type": "markdown",
      "metadata": {
        "id": "qbLk1hEtpyTa"
      },
      "source": [
        "<b> Removing rows with null power values. </b>"
      ]
    },
    {
      "cell_type": "code",
      "execution_count": 90,
      "metadata": {
        "scrolled": true,
        "colab": {
          "base_uri": "https://localhost:8080/"
        },
        "id": "nlUWQ-HwpyTa",
        "outputId": "61ccdc51-b888-45d7-c80f-3f5890d5e505"
      },
      "outputs": [
        {
          "output_type": "stream",
          "name": "stdout",
          "text": [
            "Y\n",
            "103\n",
            "[153, 171, 434, 450, 451, 602, 622, 774, 873, 926, 1038, 1053, 1167, 1188, 1260, 1399, 1403, 1415, 1518, 1587, 1609, 1612, 1734, 1769, 1816, 1830, 1847, 1870, 1877, 1917, 1923, 1936, 2011, 2034, 2066, 2120, 2179, 2185, 2207, 2216, 2474, 2476, 2477, 2522, 2545, 2555, 2590, 2638, 2640, 2650, 2670, 2681, 2722, 2793, 2811, 2862, 2877, 2890, 2964, 3010, 3090, 3148, 3296, 3444, 3462, 3466, 3491, 3564, 3592, 3624, 3698, 3756, 3769, 3852, 3901, 4017, 4157, 4207, 4258, 4329, 4413, 4536, 4593, 4678, 4749, 4757, 4759, 4796, 4874, 4885, 5076, 5123, 5187, 5196, 5201, 5396, 5511, 5565, 5652, 5805, 5811, 5917, 5921]\n"
          ]
        }
      ],
      "source": [
        "x = 'n'\n",
        "count = 0\n",
        "position = []\n",
        "for i in range(train.shape[0]):\n",
        "    if train['Power'][i]=='null':\n",
        "        x = 'Y'\n",
        "        count = count + 1\n",
        "        position.append(i)\n",
        "print(x)\n",
        "print(count)\n",
        "print(position)\n"
      ]
    },
    {
      "cell_type": "code",
      "execution_count": 91,
      "metadata": {
        "id": "D0S9wisxpyTb"
      },
      "outputs": [],
      "source": [
        "train = train.drop(train.index[position])\n",
        "train = train.reset_index(drop=True)"
      ]
    },
    {
      "cell_type": "code",
      "execution_count": 92,
      "metadata": {
        "colab": {
          "base_uri": "https://localhost:8080/"
        },
        "id": "Pj2RBYI4pyTb",
        "outputId": "f73ffdd9-2e4d-4f67-83a6-1e04db40e33b"
      },
      "outputs": [
        {
          "output_type": "execute_result",
          "data": {
            "text/plain": [
              "(5872, 13)"
            ]
          },
          "metadata": {},
          "execution_count": 92
        }
      ],
      "source": [
        "train.shape"
      ]
    },
    {
      "cell_type": "code",
      "execution_count": 93,
      "metadata": {
        "id": "bsihoe6zpyTb"
      },
      "outputs": [],
      "source": [
        "train['Power'] = train['Power'].astype(float)\n",
        "#Converting power values to float"
      ]
    },
    {
      "cell_type": "markdown",
      "metadata": {
        "id": "VzJm180qpyTc"
      },
      "source": [
        "<b>Removing the rows woth 0 mileage.</b>"
      ]
    },
    {
      "cell_type": "code",
      "execution_count": 94,
      "metadata": {
        "colab": {
          "base_uri": "https://localhost:8080/"
        },
        "id": "gTbY1e7spyTc",
        "outputId": "fd8e0cd9-e57e-4e0b-c66e-23027ecc34c1"
      },
      "outputs": [
        {
          "output_type": "stream",
          "name": "stdout",
          "text": [
            "Y\n",
            "28\n",
            "[363, 605, 1161, 1174, 1490, 1587, 2026, 2126, 2490, 2640, 2712, 2956, 3217, 3307, 3349, 3559, 3586, 3682, 3749, 3962, 3992, 4043, 4047, 4109, 4395, 5043, 5646, 5795]\n"
          ]
        }
      ],
      "source": [
        "x = 'n'\n",
        "count = 0\n",
        "position = []\n",
        "for i in range(train.shape[0]):\n",
        "    if train['Mileage'][i]==0.0:\n",
        "        x = 'Y'\n",
        "        count = count + 1\n",
        "        position.append(i)\n",
        "print(x)\n",
        "print(count)\n",
        "print(position)"
      ]
    },
    {
      "cell_type": "code",
      "execution_count": 95,
      "metadata": {
        "id": "KbSKKdsapyTc"
      },
      "outputs": [],
      "source": [
        "train = train.drop(train.index[position])\n",
        "train = train.reset_index(drop=True)"
      ]
    },
    {
      "cell_type": "code",
      "execution_count": 96,
      "metadata": {
        "colab": {
          "base_uri": "https://localhost:8080/"
        },
        "id": "qKGj1RsKpyTd",
        "outputId": "baadd334-6d81-4457-aa6e-f3c0377b4ff9"
      },
      "outputs": [
        {
          "output_type": "execute_result",
          "data": {
            "text/plain": [
              "(5844, 13)"
            ]
          },
          "metadata": {},
          "execution_count": 96
        }
      ],
      "source": [
        "train.shape"
      ]
    },
    {
      "cell_type": "code",
      "execution_count": 97,
      "metadata": {
        "colab": {
          "base_uri": "https://localhost:8080/",
          "height": 268
        },
        "id": "WbFOod16pyTd",
        "outputId": "6dee8696-8e29-4220-a691-62571c94907a"
      },
      "outputs": [
        {
          "output_type": "execute_result",
          "data": {
            "text/html": [
              "\n",
              "  <div id=\"df-94b52b38-678c-4557-9827-24f1a2b3941b\">\n",
              "    <div class=\"colab-df-container\">\n",
              "      <div>\n",
              "<style scoped>\n",
              "    .dataframe tbody tr th:only-of-type {\n",
              "        vertical-align: middle;\n",
              "    }\n",
              "\n",
              "    .dataframe tbody tr th {\n",
              "        vertical-align: top;\n",
              "    }\n",
              "\n",
              "    .dataframe thead th {\n",
              "        text-align: right;\n",
              "    }\n",
              "</style>\n",
              "<table border=\"1\" class=\"dataframe\">\n",
              "  <thead>\n",
              "    <tr style=\"text-align: right;\">\n",
              "      <th></th>\n",
              "      <th>Brand</th>\n",
              "      <th>Model</th>\n",
              "      <th>Location</th>\n",
              "      <th>Year</th>\n",
              "      <th>Kilometers_Driven</th>\n",
              "      <th>Fuel_Type</th>\n",
              "      <th>Transmission</th>\n",
              "      <th>Owner_Type</th>\n",
              "      <th>Mileage</th>\n",
              "      <th>Engine</th>\n",
              "      <th>Power</th>\n",
              "      <th>Seats</th>\n",
              "      <th>Price</th>\n",
              "    </tr>\n",
              "  </thead>\n",
              "  <tbody>\n",
              "    <tr>\n",
              "      <th>0</th>\n",
              "      <td>Hyundai</td>\n",
              "      <td>i10Era</td>\n",
              "      <td>Jaipur</td>\n",
              "      <td>2013</td>\n",
              "      <td>46230</td>\n",
              "      <td>Petrol</td>\n",
              "      <td>Manual</td>\n",
              "      <td>First</td>\n",
              "      <td>19.81</td>\n",
              "      <td>1086.0</td>\n",
              "      <td>68.05</td>\n",
              "      <td>5.0</td>\n",
              "      <td>3.10</td>\n",
              "    </tr>\n",
              "    <tr>\n",
              "      <th>1</th>\n",
              "      <td>Toyota</td>\n",
              "      <td>Innova2.5G(Diesel)7SeaterBSIV</td>\n",
              "      <td>Pune</td>\n",
              "      <td>2009</td>\n",
              "      <td>118000</td>\n",
              "      <td>Diesel</td>\n",
              "      <td>Manual</td>\n",
              "      <td>First</td>\n",
              "      <td>12.80</td>\n",
              "      <td>2494.0</td>\n",
              "      <td>102.00</td>\n",
              "      <td>8.0</td>\n",
              "      <td>4.50</td>\n",
              "    </tr>\n",
              "    <tr>\n",
              "      <th>2</th>\n",
              "      <td>Skoda</td>\n",
              "      <td>LauraAmbiente</td>\n",
              "      <td>Hyderabad</td>\n",
              "      <td>2008</td>\n",
              "      <td>122397</td>\n",
              "      <td>Diesel</td>\n",
              "      <td>Manual</td>\n",
              "      <td>First</td>\n",
              "      <td>17.50</td>\n",
              "      <td>1896.0</td>\n",
              "      <td>106.00</td>\n",
              "      <td>5.0</td>\n",
              "      <td>4.40</td>\n",
              "    </tr>\n",
              "    <tr>\n",
              "      <th>3</th>\n",
              "      <td>Maruti</td>\n",
              "      <td>ErtigaVDI</td>\n",
              "      <td>Delhi</td>\n",
              "      <td>2014</td>\n",
              "      <td>79870</td>\n",
              "      <td>Diesel</td>\n",
              "      <td>Manual</td>\n",
              "      <td>First</td>\n",
              "      <td>20.77</td>\n",
              "      <td>1248.0</td>\n",
              "      <td>88.76</td>\n",
              "      <td>7.0</td>\n",
              "      <td>5.35</td>\n",
              "    </tr>\n",
              "    <tr>\n",
              "      <th>4</th>\n",
              "      <td>Hyundai</td>\n",
              "      <td>Verna1.6SX</td>\n",
              "      <td>Kolkata</td>\n",
              "      <td>2011</td>\n",
              "      <td>34994</td>\n",
              "      <td>Diesel</td>\n",
              "      <td>Manual</td>\n",
              "      <td>First</td>\n",
              "      <td>22.32</td>\n",
              "      <td>1582.0</td>\n",
              "      <td>126.32</td>\n",
              "      <td>5.0</td>\n",
              "      <td>3.90</td>\n",
              "    </tr>\n",
              "  </tbody>\n",
              "</table>\n",
              "</div>\n",
              "      <button class=\"colab-df-convert\" onclick=\"convertToInteractive('df-94b52b38-678c-4557-9827-24f1a2b3941b')\"\n",
              "              title=\"Convert this dataframe to an interactive table.\"\n",
              "              style=\"display:none;\">\n",
              "        \n",
              "  <svg xmlns=\"http://www.w3.org/2000/svg\" height=\"24px\"viewBox=\"0 0 24 24\"\n",
              "       width=\"24px\">\n",
              "    <path d=\"M0 0h24v24H0V0z\" fill=\"none\"/>\n",
              "    <path d=\"M18.56 5.44l.94 2.06.94-2.06 2.06-.94-2.06-.94-.94-2.06-.94 2.06-2.06.94zm-11 1L8.5 8.5l.94-2.06 2.06-.94-2.06-.94L8.5 2.5l-.94 2.06-2.06.94zm10 10l.94 2.06.94-2.06 2.06-.94-2.06-.94-.94-2.06-.94 2.06-2.06.94z\"/><path d=\"M17.41 7.96l-1.37-1.37c-.4-.4-.92-.59-1.43-.59-.52 0-1.04.2-1.43.59L10.3 9.45l-7.72 7.72c-.78.78-.78 2.05 0 2.83L4 21.41c.39.39.9.59 1.41.59.51 0 1.02-.2 1.41-.59l7.78-7.78 2.81-2.81c.8-.78.8-2.07 0-2.86zM5.41 20L4 18.59l7.72-7.72 1.47 1.35L5.41 20z\"/>\n",
              "  </svg>\n",
              "      </button>\n",
              "      \n",
              "  <style>\n",
              "    .colab-df-container {\n",
              "      display:flex;\n",
              "      flex-wrap:wrap;\n",
              "      gap: 12px;\n",
              "    }\n",
              "\n",
              "    .colab-df-convert {\n",
              "      background-color: #E8F0FE;\n",
              "      border: none;\n",
              "      border-radius: 50%;\n",
              "      cursor: pointer;\n",
              "      display: none;\n",
              "      fill: #1967D2;\n",
              "      height: 32px;\n",
              "      padding: 0 0 0 0;\n",
              "      width: 32px;\n",
              "    }\n",
              "\n",
              "    .colab-df-convert:hover {\n",
              "      background-color: #E2EBFA;\n",
              "      box-shadow: 0px 1px 2px rgba(60, 64, 67, 0.3), 0px 1px 3px 1px rgba(60, 64, 67, 0.15);\n",
              "      fill: #174EA6;\n",
              "    }\n",
              "\n",
              "    [theme=dark] .colab-df-convert {\n",
              "      background-color: #3B4455;\n",
              "      fill: #D2E3FC;\n",
              "    }\n",
              "\n",
              "    [theme=dark] .colab-df-convert:hover {\n",
              "      background-color: #434B5C;\n",
              "      box-shadow: 0px 1px 3px 1px rgba(0, 0, 0, 0.15);\n",
              "      filter: drop-shadow(0px 1px 2px rgba(0, 0, 0, 0.3));\n",
              "      fill: #FFFFFF;\n",
              "    }\n",
              "  </style>\n",
              "\n",
              "      <script>\n",
              "        const buttonEl =\n",
              "          document.querySelector('#df-94b52b38-678c-4557-9827-24f1a2b3941b button.colab-df-convert');\n",
              "        buttonEl.style.display =\n",
              "          google.colab.kernel.accessAllowed ? 'block' : 'none';\n",
              "\n",
              "        async function convertToInteractive(key) {\n",
              "          const element = document.querySelector('#df-94b52b38-678c-4557-9827-24f1a2b3941b');\n",
              "          const dataTable =\n",
              "            await google.colab.kernel.invokeFunction('convertToInteractive',\n",
              "                                                     [key], {});\n",
              "          if (!dataTable) return;\n",
              "\n",
              "          const docLinkHtml = 'Like what you see? Visit the ' +\n",
              "            '<a target=\"_blank\" href=https://colab.research.google.com/notebooks/data_table.ipynb>data table notebook</a>'\n",
              "            + ' to learn more about interactive tables.';\n",
              "          element.innerHTML = '';\n",
              "          dataTable['output_type'] = 'display_data';\n",
              "          await google.colab.output.renderOutput(dataTable, element);\n",
              "          const docLink = document.createElement('div');\n",
              "          docLink.innerHTML = docLinkHtml;\n",
              "          element.appendChild(docLink);\n",
              "        }\n",
              "      </script>\n",
              "    </div>\n",
              "  </div>\n",
              "  "
            ],
            "text/plain": [
              "     Brand                          Model   Location  ...   Power  Seats Price\n",
              "0  Hyundai                         i10Era     Jaipur  ...   68.05    5.0  3.10\n",
              "1   Toyota  Innova2.5G(Diesel)7SeaterBSIV       Pune  ...  102.00    8.0  4.50\n",
              "2    Skoda                  LauraAmbiente  Hyderabad  ...  106.00    5.0  4.40\n",
              "3   Maruti                      ErtigaVDI      Delhi  ...   88.76    7.0  5.35\n",
              "4  Hyundai                     Verna1.6SX    Kolkata  ...  126.32    5.0  3.90\n",
              "\n",
              "[5 rows x 13 columns]"
            ]
          },
          "metadata": {},
          "execution_count": 97
        }
      ],
      "source": [
        "train.head()"
      ]
    },
    {
      "cell_type": "code",
      "execution_count": 98,
      "metadata": {
        "colab": {
          "base_uri": "https://localhost:8080/",
          "height": 296
        },
        "id": "00EoM1gIpyTd",
        "outputId": "5760971c-6b09-4099-c4ae-2de9ddd6ee53"
      },
      "outputs": [
        {
          "output_type": "execute_result",
          "data": {
            "text/plain": [
              "<matplotlib.axes._subplots.AxesSubplot at 0x7fc8e3c211d0>"
            ]
          },
          "metadata": {},
          "execution_count": 98
        },
        {
          "output_type": "display_data",
          "data": {
            "image/png": "[encoded data removed]",
            "text/plain": [
              "<Figure size 432x288 with 1 Axes>"
            ]
          },
          "metadata": {
            "needs_background": "light"
          }
        }
      ],
      "source": [
        "import seaborn as sns\n",
        "sns.boxplot(x=train['Mileage'])"
      ]
    },
    {
      "cell_type": "code",
      "execution_count": 99,
      "metadata": {
        "colab": {
          "base_uri": "https://localhost:8080/",
          "height": 296
        },
        "id": "UdMJSKbMpyTe",
        "outputId": "a1fad677-a1ee-4f79-89c1-bcced63c7455"
      },
      "outputs": [
        {
          "output_type": "execute_result",
          "data": {
            "text/plain": [
              "<matplotlib.axes._subplots.AxesSubplot at 0x7fc8e3c171d0>"
            ]
          },
          "metadata": {},
          "execution_count": 99
        },
        {
          "output_type": "display_data",
          "data": {
            "image/png": "[encoded data removed]",
            "text/plain": [
              "<Figure size 432x288 with 1 Axes>"
            ]
          },
          "metadata": {
            "needs_background": "light"
          }
        }
      ],
      "source": [
        "sns.boxplot(x=train['Year'])"
      ]
    },
    {
      "cell_type": "code",
      "execution_count": 100,
      "metadata": {
        "scrolled": true,
        "colab": {
          "base_uri": "https://localhost:8080/",
          "height": 297
        },
        "id": "S5JO9doIpyTe",
        "outputId": "8b5ef63e-e194-4d79-ad18-d821966df69f"
      },
      "outputs": [
        {
          "output_type": "execute_result",
          "data": {
            "text/plain": [
              "<matplotlib.axes._subplots.AxesSubplot at 0x7fc8e3bd1b10>"
            ]
          },
          "metadata": {},
          "execution_count": 100
        },
        {
          "output_type": "display_data",
          "data": {
            "image/png": "[encoded data removed]",
            "text/plain": [
              "<Figure size 432x288 with 1 Axes>"
            ]
          },
          "metadata": {
            "needs_background": "light"
          }
        }
      ],
      "source": [
        "sns.boxplot(x=train['Kilometers_Driven'])"
      ]
    },
    {
      "cell_type": "markdown",
      "metadata": {
        "id": "l-Af8YyfpyTe"
      },
      "source": [
        "<b>Removing the outlier who have exceptionally high value of Kilometers driven as shown in the above plot</b>"
      ]
    },
    {
      "cell_type": "code",
      "execution_count": 101,
      "metadata": {
        "colab": {
          "base_uri": "https://localhost:8080/"
        },
        "id": "thsd0gClpyTe",
        "outputId": "77824f78-36a5-4bbf-9a5a-5e849e8da26a"
      },
      "outputs": [
        {
          "output_type": "stream",
          "name": "stdout",
          "text": [
            "Y\n",
            "1\n",
            "[259]\n"
          ]
        }
      ],
      "source": [
        "x = 'n'\n",
        "count = 0\n",
        "position = []\n",
        "for i in range(train.shape[0]):\n",
        "    if train['Kilometers_Driven'][i]>5000000:\n",
        "        x = 'Y'\n",
        "        count = count + 1\n",
        "        position.append(i)\n",
        "print(x)\n",
        "print(count)\n",
        "print(position)"
      ]
    },
    {
      "cell_type": "code",
      "execution_count": 102,
      "metadata": {
        "id": "Nz4Tmt6FpyTf"
      },
      "outputs": [],
      "source": [
        "train = train.drop(train.index[position])\n",
        "train = train.reset_index(drop=True)"
      ]
    },
    {
      "cell_type": "code",
      "execution_count": 103,
      "metadata": {
        "colab": {
          "base_uri": "https://localhost:8080/",
          "height": 296
        },
        "id": "1v_M8mLDpyTf",
        "outputId": "e8078a57-2770-479c-d65f-388859a047bd"
      },
      "outputs": [
        {
          "output_type": "execute_result",
          "data": {
            "text/plain": [
              "<matplotlib.axes._subplots.AxesSubplot at 0x7fc8e7ae1710>"
            ]
          },
          "metadata": {},
          "execution_count": 103
        },
        {
          "output_type": "display_data",
          "data": {
            "image/png": "[encoded data removed]",
            "text/plain": [
              "<Figure size 432x288 with 1 Axes>"
            ]
          },
          "metadata": {
            "needs_background": "light"
          }
        }
      ],
      "source": [
        "sns.boxplot(x=train['Engine'])"
      ]
    },
    {
      "cell_type": "code",
      "execution_count": 104,
      "metadata": {
        "colab": {
          "base_uri": "https://localhost:8080/",
          "height": 296
        },
        "id": "XONU1I8ApyTf",
        "outputId": "72714777-b603-490f-e8c1-f83a40753898"
      },
      "outputs": [
        {
          "output_type": "execute_result",
          "data": {
            "text/plain": [
              "<matplotlib.axes._subplots.AxesSubplot at 0x7fc8e7b4f6d0>"
            ]
          },
          "metadata": {},
          "execution_count": 104
        },
        {
          "output_type": "display_data",
          "data": {
            "image/png": "[encoded data removed]",
            "text/plain": [
              "<Figure size 432x288 with 1 Axes>"
            ]
          },
          "metadata": {
            "needs_background": "light"
          }
        }
      ],
      "source": [
        "sns.boxplot(x=train['Power'])"
      ]
    },
    {
      "cell_type": "code",
      "execution_count": 105,
      "metadata": {
        "scrolled": true,
        "colab": {
          "base_uri": "https://localhost:8080/"
        },
        "id": "2IQb3zj8pyTg",
        "outputId": "f8d766b3-ae3b-4cc0-ac14-e2ab194ddd8e"
      },
      "outputs": [
        {
          "output_type": "execute_result",
          "data": {
            "text/plain": [
              "5.0     4890\n",
              "7.0      672\n",
              "8.0      133\n",
              "4.0       99\n",
              "6.0       29\n",
              "2.0       13\n",
              "10.0       4\n",
              "9.0        3\n",
              "Name: Seats, dtype: int64"
            ]
          },
          "metadata": {},
          "execution_count": 105
        }
      ],
      "source": [
        "train['Seats'].value_counts()"
      ]
    },
    {
      "cell_type": "code",
      "execution_count": 106,
      "metadata": {
        "colab": {
          "base_uri": "https://localhost:8080/"
        },
        "id": "vpuiUvqWpyTg",
        "outputId": "8156d9fe-3319-4314-a6ae-446e92d7207f"
      },
      "outputs": [
        {
          "output_type": "execute_result",
          "data": {
            "text/plain": [
              "(5843, 13)"
            ]
          },
          "metadata": {},
          "execution_count": 106
        }
      ],
      "source": [
        "train.shape"
      ]
    },
    {
      "cell_type": "markdown",
      "metadata": {
        "id": "LowjYHibpyTg"
      },
      "source": [
        "<b>So, in total I have 5843 Rows now to work forward. I droped 176 rows.</b>"
      ]
    },
    {
      "cell_type": "code",
      "execution_count": 107,
      "metadata": {
        "colab": {
          "base_uri": "https://localhost:8080/",
          "height": 297
        },
        "id": "eDv9njhTpyTh",
        "outputId": "bb9b4bbc-e288-4ddc-91d5-7751a2443c1e"
      },
      "outputs": [
        {
          "output_type": "execute_result",
          "data": {
            "text/html": [
              "\n",
              "  <div id=\"df-e809912b-9cf3-4397-9645-e0ed77d00727\">\n",
              "    <div class=\"colab-df-container\">\n",
              "      <div>\n",
              "<style scoped>\n",
              "    .dataframe tbody tr th:only-of-type {\n",
              "        vertical-align: middle;\n",
              "    }\n",
              "\n",
              "    .dataframe tbody tr th {\n",
              "        vertical-align: top;\n",
              "    }\n",
              "\n",
              "    .dataframe thead th {\n",
              "        text-align: right;\n",
              "    }\n",
              "</style>\n",
              "<table border=\"1\" class=\"dataframe\">\n",
              "  <thead>\n",
              "    <tr style=\"text-align: right;\">\n",
              "      <th></th>\n",
              "      <th>Year</th>\n",
              "      <th>Kilometers_Driven</th>\n",
              "      <th>Mileage</th>\n",
              "      <th>Engine</th>\n",
              "      <th>Power</th>\n",
              "      <th>Seats</th>\n",
              "      <th>Price</th>\n",
              "    </tr>\n",
              "  </thead>\n",
              "  <tbody>\n",
              "    <tr>\n",
              "      <th>count</th>\n",
              "      <td>5843.000000</td>\n",
              "      <td>5843.000000</td>\n",
              "      <td>5843.000000</td>\n",
              "      <td>5843.000000</td>\n",
              "      <td>5843.000000</td>\n",
              "      <td>5843.000000</td>\n",
              "      <td>5843.000000</td>\n",
              "    </tr>\n",
              "    <tr>\n",
              "      <th>mean</th>\n",
              "      <td>2013.480404</td>\n",
              "      <td>57224.501284</td>\n",
              "      <td>18.365822</td>\n",
              "      <td>1622.600034</td>\n",
              "      <td>113.114819</td>\n",
              "      <td>5.285128</td>\n",
              "      <td>9.536024</td>\n",
              "    </tr>\n",
              "    <tr>\n",
              "      <th>std</th>\n",
              "      <td>3.163482</td>\n",
              "      <td>37773.045190</td>\n",
              "      <td>4.188521</td>\n",
              "      <td>598.772591</td>\n",
              "      <td>53.783427</td>\n",
              "      <td>0.806828</td>\n",
              "      <td>11.164542</td>\n",
              "    </tr>\n",
              "    <tr>\n",
              "      <th>min</th>\n",
              "      <td>1998.000000</td>\n",
              "      <td>171.000000</td>\n",
              "      <td>6.400000</td>\n",
              "      <td>624.000000</td>\n",
              "      <td>34.200000</td>\n",
              "      <td>2.000000</td>\n",
              "      <td>0.440000</td>\n",
              "    </tr>\n",
              "    <tr>\n",
              "      <th>25%</th>\n",
              "      <td>2012.000000</td>\n",
              "      <td>33490.500000</td>\n",
              "      <td>15.300000</td>\n",
              "      <td>1198.000000</td>\n",
              "      <td>75.000000</td>\n",
              "      <td>5.000000</td>\n",
              "      <td>3.515000</td>\n",
              "    </tr>\n",
              "    <tr>\n",
              "      <th>50%</th>\n",
              "      <td>2014.000000</td>\n",
              "      <td>52553.000000</td>\n",
              "      <td>18.330000</td>\n",
              "      <td>1495.000000</td>\n",
              "      <td>94.680000</td>\n",
              "      <td>5.000000</td>\n",
              "      <td>5.700000</td>\n",
              "    </tr>\n",
              "    <tr>\n",
              "      <th>75%</th>\n",
              "      <td>2016.000000</td>\n",
              "      <td>72405.500000</td>\n",
              "      <td>21.100000</td>\n",
              "      <td>1984.000000</td>\n",
              "      <td>138.100000</td>\n",
              "      <td>5.000000</td>\n",
              "      <td>10.000000</td>\n",
              "    </tr>\n",
              "    <tr>\n",
              "      <th>max</th>\n",
              "      <td>2019.000000</td>\n",
              "      <td>775000.000000</td>\n",
              "      <td>33.540000</td>\n",
              "      <td>5998.000000</td>\n",
              "      <td>560.000000</td>\n",
              "      <td>10.000000</td>\n",
              "      <td>160.000000</td>\n",
              "    </tr>\n",
              "  </tbody>\n",
              "</table>\n",
              "</div>\n",
              "      <button class=\"colab-df-convert\" onclick=\"convertToInteractive('df-e809912b-9cf3-4397-9645-e0ed77d00727')\"\n",
              "              title=\"Convert this dataframe to an interactive table.\"\n",
              "              style=\"display:none;\">\n",
              "        \n",
              "  <svg xmlns=\"http://www.w3.org/2000/svg\" height=\"24px\"viewBox=\"0 0 24 24\"\n",
              "       width=\"24px\">\n",
              "    <path d=\"M0 0h24v24H0V0z\" fill=\"none\"/>\n",
              "    <path d=\"M18.56 5.44l.94 2.06.94-2.06 2.06-.94-2.06-.94-.94-2.06-.94 2.06-2.06.94zm-11 1L8.5 8.5l.94-2.06 2.06-.94-2.06-.94L8.5 2.5l-.94 2.06-2.06.94zm10 10l.94 2.06.94-2.06 2.06-.94-2.06-.94-.94-2.06-.94 2.06-2.06.94z\"/><path d=\"M17.41 7.96l-1.37-1.37c-.4-.4-.92-.59-1.43-.59-.52 0-1.04.2-1.43.59L10.3 9.45l-7.72 7.72c-.78.78-.78 2.05 0 2.83L4 21.41c.39.39.9.59 1.41.59.51 0 1.02-.2 1.41-.59l7.78-7.78 2.81-2.81c.8-.78.8-2.07 0-2.86zM5.41 20L4 18.59l7.72-7.72 1.47 1.35L5.41 20z\"/>\n",
              "  </svg>\n",
              "      </button>\n",
              "      \n",
              "  <style>\n",
              "    .colab-df-container {\n",
              "      display:flex;\n",
              "      flex-wrap:wrap;\n",
              "      gap: 12px;\n",
              "    }\n",
              "\n",
              "    .colab-df-convert {\n",
              "      background-color: #E8F0FE;\n",
              "      border: none;\n",
              "      border-radius: 50%;\n",
              "      cursor: pointer;\n",
              "      display: none;\n",
              "      fill: #1967D2;\n",
              "      height: 32px;\n",
              "      padding: 0 0 0 0;\n",
              "      width: 32px;\n",
              "    }\n",
              "\n",
              "    .colab-df-convert:hover {\n",
              "      background-color: #E2EBFA;\n",
              "      box-shadow: 0px 1px 2px rgba(60, 64, 67, 0.3), 0px 1px 3px 1px rgba(60, 64, 67, 0.15);\n",
              "      fill: #174EA6;\n",
              "    }\n",
              "\n",
              "    [theme=dark] .colab-df-convert {\n",
              "      background-color: #3B4455;\n",
              "      fill: #D2E3FC;\n",
              "    }\n",
              "\n",
              "    [theme=dark] .colab-df-convert:hover {\n",
              "      background-color: #434B5C;\n",
              "      box-shadow: 0px 1px 3px 1px rgba(0, 0, 0, 0.15);\n",
              "      filter: drop-shadow(0px 1px 2px rgba(0, 0, 0, 0.3));\n",
              "      fill: #FFFFFF;\n",
              "    }\n",
              "  </style>\n",
              "\n",
              "      <script>\n",
              "        const buttonEl =\n",
              "          document.querySelector('#df-e809912b-9cf3-4397-9645-e0ed77d00727 button.colab-df-convert');\n",
              "        buttonEl.style.display =\n",
              "          google.colab.kernel.accessAllowed ? 'block' : 'none';\n",
              "\n",
              "        async function convertToInteractive(key) {\n",
              "          const element = document.querySelector('#df-e809912b-9cf3-4397-9645-e0ed77d00727');\n",
              "          const dataTable =\n",
              "            await google.colab.kernel.invokeFunction('convertToInteractive',\n",
              "                                                     [key], {});\n",
              "          if (!dataTable) return;\n",
              "\n",
              "          const docLinkHtml = 'Like what you see? Visit the ' +\n",
              "            '<a target=\"_blank\" href=https://colab.research.google.com/notebooks/data_table.ipynb>data table notebook</a>'\n",
              "            + ' to learn more about interactive tables.';\n",
              "          element.innerHTML = '';\n",
              "          dataTable['output_type'] = 'display_data';\n",
              "          await google.colab.output.renderOutput(dataTable, element);\n",
              "          const docLink = document.createElement('div');\n",
              "          docLink.innerHTML = docLinkHtml;\n",
              "          element.appendChild(docLink);\n",
              "        }\n",
              "      </script>\n",
              "    </div>\n",
              "  </div>\n",
              "  "
            ],
            "text/plain": [
              "              Year  Kilometers_Driven  ...        Seats        Price\n",
              "count  5843.000000        5843.000000  ...  5843.000000  5843.000000\n",
              "mean   2013.480404       57224.501284  ...     5.285128     9.536024\n",
              "std       3.163482       37773.045190  ...     0.806828    11.164542\n",
              "min    1998.000000         171.000000  ...     2.000000     0.440000\n",
              "25%    2012.000000       33490.500000  ...     5.000000     3.515000\n",
              "50%    2014.000000       52553.000000  ...     5.000000     5.700000\n",
              "75%    2016.000000       72405.500000  ...     5.000000    10.000000\n",
              "max    2019.000000      775000.000000  ...    10.000000   160.000000\n",
              "\n",
              "[8 rows x 7 columns]"
            ]
          },
          "metadata": {},
          "execution_count": 107
        }
      ],
      "source": [
        "train.describe()"
      ]
    },
    {
      "cell_type": "code",
      "execution_count": 108,
      "metadata": {
        "scrolled": false,
        "colab": {
          "base_uri": "https://localhost:8080/",
          "height": 268
        },
        "id": "fOUWOT4tpyTh",
        "outputId": "3d575054-01c8-4589-f0e8-dfd23defa67c"
      },
      "outputs": [
        {
          "output_type": "execute_result",
          "data": {
            "text/html": [
              "\n",
              "  <div id=\"df-b4b4e728-0995-489d-8a0f-a8449f3d82fc\">\n",
              "    <div class=\"colab-df-container\">\n",
              "      <div>\n",
              "<style scoped>\n",
              "    .dataframe tbody tr th:only-of-type {\n",
              "        vertical-align: middle;\n",
              "    }\n",
              "\n",
              "    .dataframe tbody tr th {\n",
              "        vertical-align: top;\n",
              "    }\n",
              "\n",
              "    .dataframe thead th {\n",
              "        text-align: right;\n",
              "    }\n",
              "</style>\n",
              "<table border=\"1\" class=\"dataframe\">\n",
              "  <thead>\n",
              "    <tr style=\"text-align: right;\">\n",
              "      <th></th>\n",
              "      <th>Brand</th>\n",
              "      <th>Model</th>\n",
              "      <th>Location</th>\n",
              "      <th>Year</th>\n",
              "      <th>Kilometers_Driven</th>\n",
              "      <th>Fuel_Type</th>\n",
              "      <th>Transmission</th>\n",
              "      <th>Owner_Type</th>\n",
              "      <th>Mileage</th>\n",
              "      <th>Engine</th>\n",
              "      <th>Power</th>\n",
              "      <th>Seats</th>\n",
              "      <th>Price</th>\n",
              "    </tr>\n",
              "  </thead>\n",
              "  <tbody>\n",
              "    <tr>\n",
              "      <th>0</th>\n",
              "      <td>Hyundai</td>\n",
              "      <td>i10Era</td>\n",
              "      <td>Jaipur</td>\n",
              "      <td>2013</td>\n",
              "      <td>46230</td>\n",
              "      <td>Petrol</td>\n",
              "      <td>Manual</td>\n",
              "      <td>First</td>\n",
              "      <td>19.81</td>\n",
              "      <td>1086.0</td>\n",
              "      <td>68.05</td>\n",
              "      <td>5.0</td>\n",
              "      <td>3.10</td>\n",
              "    </tr>\n",
              "    <tr>\n",
              "      <th>1</th>\n",
              "      <td>Toyota</td>\n",
              "      <td>Innova2.5G(Diesel)7SeaterBSIV</td>\n",
              "      <td>Pune</td>\n",
              "      <td>2009</td>\n",
              "      <td>118000</td>\n",
              "      <td>Diesel</td>\n",
              "      <td>Manual</td>\n",
              "      <td>First</td>\n",
              "      <td>12.80</td>\n",
              "      <td>2494.0</td>\n",
              "      <td>102.00</td>\n",
              "      <td>8.0</td>\n",
              "      <td>4.50</td>\n",
              "    </tr>\n",
              "    <tr>\n",
              "      <th>2</th>\n",
              "      <td>Skoda</td>\n",
              "      <td>LauraAmbiente</td>\n",
              "      <td>Hyderabad</td>\n",
              "      <td>2008</td>\n",
              "      <td>122397</td>\n",
              "      <td>Diesel</td>\n",
              "      <td>Manual</td>\n",
              "      <td>First</td>\n",
              "      <td>17.50</td>\n",
              "      <td>1896.0</td>\n",
              "      <td>106.00</td>\n",
              "      <td>5.0</td>\n",
              "      <td>4.40</td>\n",
              "    </tr>\n",
              "    <tr>\n",
              "      <th>3</th>\n",
              "      <td>Maruti</td>\n",
              "      <td>ErtigaVDI</td>\n",
              "      <td>Delhi</td>\n",
              "      <td>2014</td>\n",
              "      <td>79870</td>\n",
              "      <td>Diesel</td>\n",
              "      <td>Manual</td>\n",
              "      <td>First</td>\n",
              "      <td>20.77</td>\n",
              "      <td>1248.0</td>\n",
              "      <td>88.76</td>\n",
              "      <td>7.0</td>\n",
              "      <td>5.35</td>\n",
              "    </tr>\n",
              "    <tr>\n",
              "      <th>4</th>\n",
              "      <td>Hyundai</td>\n",
              "      <td>Verna1.6SX</td>\n",
              "      <td>Kolkata</td>\n",
              "      <td>2011</td>\n",
              "      <td>34994</td>\n",
              "      <td>Diesel</td>\n",
              "      <td>Manual</td>\n",
              "      <td>First</td>\n",
              "      <td>22.32</td>\n",
              "      <td>1582.0</td>\n",
              "      <td>126.32</td>\n",
              "      <td>5.0</td>\n",
              "      <td>3.90</td>\n",
              "    </tr>\n",
              "  </tbody>\n",
              "</table>\n",
              "</div>\n",
              "      <button class=\"colab-df-convert\" onclick=\"convertToInteractive('df-b4b4e728-0995-489d-8a0f-a8449f3d82fc')\"\n",
              "              title=\"Convert this dataframe to an interactive table.\"\n",
              "              style=\"display:none;\">\n",
              "        \n",
              "  <svg xmlns=\"http://www.w3.org/2000/svg\" height=\"24px\"viewBox=\"0 0 24 24\"\n",
              "       width=\"24px\">\n",
              "    <path d=\"M0 0h24v24H0V0z\" fill=\"none\"/>\n",
              "    <path d=\"M18.56 5.44l.94 2.06.94-2.06 2.06-.94-2.06-.94-.94-2.06-.94 2.06-2.06.94zm-11 1L8.5 8.5l.94-2.06 2.06-.94-2.06-.94L8.5 2.5l-.94 2.06-2.06.94zm10 10l.94 2.06.94-2.06 2.06-.94-2.06-.94-.94-2.06-.94 2.06-2.06.94z\"/><path d=\"M17.41 7.96l-1.37-1.37c-.4-.4-.92-.59-1.43-.59-.52 0-1.04.2-1.43.59L10.3 9.45l-7.72 7.72c-.78.78-.78 2.05 0 2.83L4 21.41c.39.39.9.59 1.41.59.51 0 1.02-.2 1.41-.59l7.78-7.78 2.81-2.81c.8-.78.8-2.07 0-2.86zM5.41 20L4 18.59l7.72-7.72 1.47 1.35L5.41 20z\"/>\n",
              "  </svg>\n",
              "      </button>\n",
              "      \n",
              "  <style>\n",
              "    .colab-df-container {\n",
              "      display:flex;\n",
              "      flex-wrap:wrap;\n",
              "      gap: 12px;\n",
              "    }\n",
              "\n",
              "    .colab-df-convert {\n",
              "      background-color: #E8F0FE;\n",
              "      border: none;\n",
              "      border-radius: 50%;\n",
              "      cursor: pointer;\n",
              "      display: none;\n",
              "      fill: #1967D2;\n",
              "      height: 32px;\n",
              "      padding: 0 0 0 0;\n",
              "      width: 32px;\n",
              "    }\n",
              "\n",
              "    .colab-df-convert:hover {\n",
              "      background-color: #E2EBFA;\n",
              "      box-shadow: 0px 1px 2px rgba(60, 64, 67, 0.3), 0px 1px 3px 1px rgba(60, 64, 67, 0.15);\n",
              "      fill: #174EA6;\n",
              "    }\n",
              "\n",
              "    [theme=dark] .colab-df-convert {\n",
              "      background-color: #3B4455;\n",
              "      fill: #D2E3FC;\n",
              "    }\n",
              "\n",
              "    [theme=dark] .colab-df-convert:hover {\n",
              "      background-color: #434B5C;\n",
              "      box-shadow: 0px 1px 3px 1px rgba(0, 0, 0, 0.15);\n",
              "      filter: drop-shadow(0px 1px 2px rgba(0, 0, 0, 0.3));\n",
              "      fill: #FFFFFF;\n",
              "    }\n",
              "  </style>\n",
              "\n",
              "      <script>\n",
              "        const buttonEl =\n",
              "          document.querySelector('#df-b4b4e728-0995-489d-8a0f-a8449f3d82fc button.colab-df-convert');\n",
              "        buttonEl.style.display =\n",
              "          google.colab.kernel.accessAllowed ? 'block' : 'none';\n",
              "\n",
              "        async function convertToInteractive(key) {\n",
              "          const element = document.querySelector('#df-b4b4e728-0995-489d-8a0f-a8449f3d82fc');\n",
              "          const dataTable =\n",
              "            await google.colab.kernel.invokeFunction('convertToInteractive',\n",
              "                                                     [key], {});\n",
              "          if (!dataTable) return;\n",
              "\n",
              "          const docLinkHtml = 'Like what you see? Visit the ' +\n",
              "            '<a target=\"_blank\" href=https://colab.research.google.com/notebooks/data_table.ipynb>data table notebook</a>'\n",
              "            + ' to learn more about interactive tables.';\n",
              "          element.innerHTML = '';\n",
              "          dataTable['output_type'] = 'display_data';\n",
              "          await google.colab.output.renderOutput(dataTable, element);\n",
              "          const docLink = document.createElement('div');\n",
              "          docLink.innerHTML = docLinkHtml;\n",
              "          element.appendChild(docLink);\n",
              "        }\n",
              "      </script>\n",
              "    </div>\n",
              "  </div>\n",
              "  "
            ],
            "text/plain": [
              "     Brand                          Model   Location  ...   Power  Seats Price\n",
              "0  Hyundai                         i10Era     Jaipur  ...   68.05    5.0  3.10\n",
              "1   Toyota  Innova2.5G(Diesel)7SeaterBSIV       Pune  ...  102.00    8.0  4.50\n",
              "2    Skoda                  LauraAmbiente  Hyderabad  ...  106.00    5.0  4.40\n",
              "3   Maruti                      ErtigaVDI      Delhi  ...   88.76    7.0  5.35\n",
              "4  Hyundai                     Verna1.6SX    Kolkata  ...  126.32    5.0  3.90\n",
              "\n",
              "[5 rows x 13 columns]"
            ]
          },
          "metadata": {},
          "execution_count": 108
        }
      ],
      "source": [
        "train.head()"
      ]
    },
    {
      "cell_type": "markdown",
      "metadata": {
        "id": "7xbjRkeDpyTh"
      },
      "source": [
        "#  EXPLORATORY DATA ANALYSIS"
      ]
    },
    {
      "cell_type": "code",
      "execution_count": 109,
      "metadata": {
        "colab": {
          "base_uri": "https://localhost:8080/"
        },
        "id": "5SMs4sNCpyTh",
        "outputId": "aa524edc-aeab-498a-d8fe-67d7e8f7560b"
      },
      "outputs": [
        {
          "output_type": "execute_result",
          "data": {
            "text/plain": [
              "(5843, 13)"
            ]
          },
          "metadata": {},
          "execution_count": 109
        }
      ],
      "source": [
        "train.shape"
      ]
    },
    {
      "cell_type": "code",
      "execution_count": 110,
      "metadata": {
        "colab": {
          "base_uri": "https://localhost:8080/"
        },
        "id": "LOPzPldDpyTi",
        "outputId": "cda3310d-e2f6-4ccd-ba6f-0ea0f0b44629"
      },
      "outputs": [
        {
          "output_type": "execute_result",
          "data": {
            "text/plain": [
              "Brand                 object\n",
              "Model                 object\n",
              "Location              object\n",
              "Year                   int64\n",
              "Kilometers_Driven      int64\n",
              "Fuel_Type             object\n",
              "Transmission          object\n",
              "Owner_Type            object\n",
              "Mileage              float64\n",
              "Engine               float64\n",
              "Power                float64\n",
              "Seats                float64\n",
              "Price                float64\n",
              "dtype: object"
            ]
          },
          "metadata": {},
          "execution_count": 110
        }
      ],
      "source": [
        "train.dtypes"
      ]
    },
    {
      "cell_type": "code",
      "execution_count": 111,
      "metadata": {
        "colab": {
          "base_uri": "https://localhost:8080/"
        },
        "id": "sf4JnqZnpyTi",
        "outputId": "d11d900e-7d62-465c-a072-a511e6229b4b"
      },
      "outputs": [
        {
          "output_type": "execute_result",
          "data": {
            "text/plain": [
              "Brand                0\n",
              "Model                0\n",
              "Location             0\n",
              "Year                 0\n",
              "Kilometers_Driven    0\n",
              "Fuel_Type            0\n",
              "Transmission         0\n",
              "Owner_Type           0\n",
              "Mileage              0\n",
              "Engine               0\n",
              "Power                0\n",
              "Seats                0\n",
              "Price                0\n",
              "dtype: int64"
            ]
          },
          "metadata": {},
          "execution_count": 111
        }
      ],
      "source": [
        "train.isnull().sum()"
      ]
    },
    {
      "cell_type": "code",
      "execution_count": 112,
      "metadata": {
        "colab": {
          "base_uri": "https://localhost:8080/"
        },
        "id": "KPKCG94rpyTi",
        "outputId": "d0412390-03e1-4bb1-f35e-0ec83e6be102"
      },
      "outputs": [
        {
          "output_type": "stream",
          "name": "stdout",
          "text": [
            "['Jaipur' 'Pune' 'Hyderabad' 'Delhi' 'Kolkata' 'Mumbai' 'Kochi'\n",
            " 'Bangalore' 'Coimbatore' 'Ahmedabad' 'Chennai']\n",
            "['Petrol' 'Diesel' 'CNG' 'LPG']\n",
            "['Manual' 'Automatic']\n",
            "['First' 'Second' 'Fourth & Above' 'Third']\n",
            "[2013 2009 2008 2014 2011 2012 2019 2006 2005 2015 2016 2017 2010 2018\n",
            " 2007 2004 2002 2001 2003 2000 1998 1999]\n"
          ]
        }
      ],
      "source": [
        "print(train['Location'].unique())\n",
        "print(train['Fuel_Type'].unique())\n",
        "print(train['Transmission'].unique())\n",
        "print(train['Owner_Type'].unique())\n",
        "print(train['Year'].unique())"
      ]
    },
    {
      "cell_type": "code",
      "execution_count": 113,
      "metadata": {
        "scrolled": true,
        "colab": {
          "base_uri": "https://localhost:8080/",
          "height": 245
        },
        "id": "jYLfkEvFpyTi",
        "outputId": "346794b7-088b-4a0b-f925-2b68a294b65e"
      },
      "outputs": [
        {
          "output_type": "display_data",
          "data": {
            "image/png": "[encoded data removed]",
            "text/plain": [
              "<Figure size 1440x720 with 4 Axes>"
            ]
          },
          "metadata": {}
        }
      ],
      "source": [
        "plt.figure(figsize=(20,10))\n",
        "plt.subplots_adjust(left=0.125, bottom=0.1, right=0.9, top=0.9, wspace=0.5, hspace=0.2)\n",
        "\n",
        "plt.subplot(141)\n",
        "plt.title('Location',fontsize=20)\n",
        "train['Location'].value_counts().plot.pie(autopct=\"%1.1f%%\")\n",
        "\n",
        "plt.subplot(142)\n",
        "plt.title('Fuel_Type',fontsize=20)\n",
        "train['Fuel_Type'].value_counts().plot.pie(autopct='%1.1f%%')\n",
        "\n",
        "plt.subplot(143)\n",
        "plt.title('Transmission',fontsize=20)\n",
        "train['Transmission'].value_counts().plot.pie(autopct='%1.1f%%')\n",
        "\n",
        "plt.subplot(144)\n",
        "plt.title('Owner_Type',fontsize=20)\n",
        "train['Owner_Type'].value_counts().plot.pie(autopct='%1.1f%%')\n",
        "plt.show()\n"
      ]
    },
    {
      "cell_type": "code",
      "execution_count": 114,
      "metadata": {
        "colab": {
          "base_uri": "https://localhost:8080/",
          "height": 1000
        },
        "id": "S7X2cCwLpyTj",
        "outputId": "f70a3844-2057-41ed-8950-f67dd23ebd43"
      },
      "outputs": [
        {
          "output_type": "display_data",
          "data": {
            "image/png": "[encoded data removed]",
            "text/plain": [
              "<Figure size 1440x1296 with 4 Axes>"
            ]
          },
          "metadata": {
            "needs_background": "light"
          }
        }
      ],
      "source": [
        "fig = plt.figure(figsize=(20,18))\n",
        "fig.subplots_adjust(hspace=0.2, wspace=0.2)\n",
        "fig.add_subplot(2,2,1)\n",
        "g1 = sns.countplot(x='Brand', data=train)\n",
        "loc,labels = plt.xticks()\n",
        "g1.set_xticklabels(labels,rotation=90)\n",
        "fig.add_subplot(2,2,2)\n",
        "g2 = sns.countplot(x='Fuel_Type', data=train)\n",
        "loc,labels = plt.xticks()\n",
        "g2.set_xticklabels(labels,rotation=0)\n",
        "fig.add_subplot(2,2,3)\n",
        "g3 = sns.countplot(x='Seats', data=train)\n",
        "loc,labels = plt.xticks()\n",
        "g3.set_xticklabels(labels,rotation=0)\n",
        "fig.add_subplot(2,2,4)\n",
        "g4 = sns.countplot(x='Owner_Type', data=train)\n",
        "loc,labels = plt.xticks()\n",
        "g4.set_xticklabels(labels,rotation=0)\n",
        "plt.show()"
      ]
    },
    {
      "cell_type": "markdown",
      "metadata": {
        "id": "LShwJLutpyTj"
      },
      "source": [
        "<b>INFERENCES</b>"
      ]
    },
    {
      "cell_type": "markdown",
      "metadata": {
        "id": "ZQDywJjSpyTk"
      },
      "source": [
        "1. Most cars have manual transmission.\n",
        "2. Most owners of the car are first.\n",
        "3. CNG and LPG are not much popular in India.\n",
        "4. Hyundai and Maruti are the most loved cars in India.\n",
        "5. First-hand cars are maximum followed by second-hand cars.\n",
        "6. Cars with 5 seats are dominant."
      ]
    },
    {
      "cell_type": "code",
      "execution_count": 120,
      "metadata": {
        "scrolled": true,
        "colab": {
          "base_uri": "https://localhost:8080/",
          "height": 350
        },
        "id": "GdO2L7-8pyTk",
        "outputId": "d654ecce-d41d-495a-f07b-d5bf287c92a3"
      },
      "outputs": [
        {
          "output_type": "stream",
          "name": "stderr",
          "text": [
            "/usr/local/lib/python3.7/dist-packages/seaborn/distributions.py:2619: FutureWarning: `distplot` is a deprecated function and will be removed in a future version. Please adapt your code to use either `displot` (a figure-level function with similar flexibility) or `histplot` (an axes-level function for histograms).\n",
            "  warnings.warn(msg, FutureWarning)\n"
          ]
        },
        {
          "output_type": "execute_result",
          "data": {
            "text/plain": [
              "<matplotlib.axes._subplots.AxesSubplot at 0x7fc8e3870a90>"
            ]
          },
          "metadata": {},
          "execution_count": 120
        },
        {
          "output_type": "display_data",
          "data": {
            "image/png": "[encoded data removed]",
            "text/plain": [
              "<Figure size 432x288 with 1 Axes>"
            ]
          },
          "metadata": {
            "needs_background": "light"
          }
        }
      ],
      "source": [
        "sns.distplot(train['Price'])"
      ]
    },
    {
      "cell_type": "markdown",
      "metadata": {
        "id": "qkhTXH4fpyTk"
      },
      "source": [
        "Most of the cars have prices between 0 to 25 lakhs"
      ]
    },
    {
      "cell_type": "code",
      "execution_count": 121,
      "metadata": {
        "colab": {
          "base_uri": "https://localhost:8080/",
          "height": 362
        },
        "id": "W6a7hzO0pyTk",
        "outputId": "d50641c4-864f-4f59-da03-65a375503421"
      },
      "outputs": [
        {
          "output_type": "stream",
          "name": "stderr",
          "text": [
            "/usr/local/lib/python3.7/dist-packages/seaborn/distributions.py:2619: FutureWarning: `distplot` is a deprecated function and will be removed in a future version. Please adapt your code to use either `displot` (a figure-level function with similar flexibility) or `histplot` (an axes-level function for histograms).\n",
            "  warnings.warn(msg, FutureWarning)\n"
          ]
        },
        {
          "output_type": "execute_result",
          "data": {
            "text/plain": [
              "<matplotlib.axes._subplots.AxesSubplot at 0x7fc8e378ee90>"
            ]
          },
          "metadata": {},
          "execution_count": 121
        },
        {
          "output_type": "display_data",
          "data": {
            "image/png": "[encoded data removed]",
            "text/plain": [
              "<Figure size 432x288 with 1 Axes>"
            ]
          },
          "metadata": {
            "needs_background": "light"
          }
        }
      ],
      "source": [
        "sns.distplot(train['Kilometers_Driven'])"
      ]
    },
    {
      "cell_type": "code",
      "execution_count": 122,
      "metadata": {
        "colab": {
          "base_uri": "https://localhost:8080/"
        },
        "id": "VwzATQLupyTl",
        "outputId": "aadecc6b-1d3a-413d-a696-1aae29aee60d"
      },
      "outputs": [
        {
          "output_type": "execute_result",
          "data": {
            "text/plain": [
              "count    5843.000000\n",
              "mean        9.536024\n",
              "std        11.164542\n",
              "min         0.440000\n",
              "25%         3.515000\n",
              "50%         5.700000\n",
              "75%        10.000000\n",
              "max       160.000000\n",
              "Name: Price, dtype: float64"
            ]
          },
          "metadata": {},
          "execution_count": 122
        }
      ],
      "source": [
        "train['Price'].describe()"
      ]
    },
    {
      "cell_type": "code",
      "execution_count": 123,
      "metadata": {
        "colab": {
          "base_uri": "https://localhost:8080/",
          "height": 365
        },
        "id": "_eApd6D0pyTl",
        "outputId": "bcfa551a-5af0-4cea-abb6-69a90ba2df60"
      },
      "outputs": [
        {
          "output_type": "execute_result",
          "data": {
            "text/plain": [
              "<matplotlib.axes._subplots.AxesSubplot at 0x7fc8e39305d0>"
            ]
          },
          "metadata": {},
          "execution_count": 123
        },
        {
          "output_type": "display_data",
          "data": {
            "image/png": "[encoded data removed]",
            "text/plain": [
              "<Figure size 432x288 with 1 Axes>"
            ]
          },
          "metadata": {
            "needs_background": "light"
          }
        }
      ],
      "source": [
        "df_vis_1 = pd.DataFrame(train.groupby('Owner_Type')['Price'].mean())\n",
        "df_vis_1.plot.bar()"
      ]
    },
    {
      "cell_type": "markdown",
      "metadata": {
        "id": "rR_7eXtYpyTl"
      },
      "source": [
        "Prices decreases progressively as ownership level increases i.e. from firsthand to seconhand and so on."
      ]
    },
    {
      "cell_type": "code",
      "execution_count": 124,
      "metadata": {
        "colab": {
          "base_uri": "https://localhost:8080/",
          "height": 318
        },
        "id": "2FhOZKfzpyTm",
        "outputId": "705094d7-89c0-4ed0-e042-82ae6783b401"
      },
      "outputs": [
        {
          "output_type": "execute_result",
          "data": {
            "text/plain": [
              "<matplotlib.axes._subplots.AxesSubplot at 0x7fc8f0d9e390>"
            ]
          },
          "metadata": {},
          "execution_count": 124
        },
        {
          "output_type": "display_data",
          "data": {
            "image/png": "[encoded data removed]",
            "text/plain": [
              "<Figure size 432x288 with 1 Axes>"
            ]
          },
          "metadata": {
            "needs_background": "light"
          }
        }
      ],
      "source": [
        "df_vis_1 = pd.DataFrame(train.groupby('Fuel_Type')['Price'].mean())\n",
        "df_vis_1.plot.bar()"
      ]
    },
    {
      "cell_type": "markdown",
      "metadata": {
        "id": "iLJxZaO1pyTm"
      },
      "source": [
        "Diesel cars are costly."
      ]
    },
    {
      "cell_type": "code",
      "execution_count": 125,
      "metadata": {
        "colab": {
          "base_uri": "https://localhost:8080/",
          "height": 337
        },
        "id": "KQ-LDgevpyTm",
        "outputId": "dad834c2-8397-4205-a6a8-edc521ac1629"
      },
      "outputs": [
        {
          "output_type": "execute_result",
          "data": {
            "text/plain": [
              "<matplotlib.axes._subplots.AxesSubplot at 0x7fc8e3fb9410>"
            ]
          },
          "metadata": {},
          "execution_count": 125
        },
        {
          "output_type": "display_data",
          "data": {
            "image/png": "[encoded data removed]",
            "text/plain": [
              "<Figure size 432x288 with 1 Axes>"
            ]
          },
          "metadata": {
            "needs_background": "light"
          }
        }
      ],
      "source": [
        "df_vis_1 = pd.DataFrame(train.groupby('Transmission')['Price'].mean())\n",
        "df_vis_1.plot.bar()"
      ]
    },
    {
      "cell_type": "markdown",
      "metadata": {
        "id": "ryBsDtJ-pyTm"
      },
      "source": [
        "Automatic cars are costly as compared to manual cars"
      ]
    },
    {
      "cell_type": "code",
      "execution_count": 126,
      "metadata": {
        "colab": {
          "base_uri": "https://localhost:8080/",
          "height": 362
        },
        "id": "R4_eWkHHpyTn",
        "outputId": "110d34cb-246c-4c99-d85a-54fbc2a594e2"
      },
      "outputs": [
        {
          "output_type": "execute_result",
          "data": {
            "text/plain": [
              "<matplotlib.axes._subplots.AxesSubplot at 0x7fc8e4094ad0>"
            ]
          },
          "metadata": {},
          "execution_count": 126
        },
        {
          "output_type": "display_data",
          "data": {
            "image/png": "[encoded data removed]",
            "text/plain": [
              "<Figure size 432x288 with 1 Axes>"
            ]
          },
          "metadata": {
            "needs_background": "light"
          }
        }
      ],
      "source": [
        "df_vis_2 = pd.DataFrame(train.groupby('Brand')['Price'].mean())\n",
        "df_vis_2.plot.bar()"
      ]
    },
    {
      "cell_type": "markdown",
      "metadata": {
        "id": "qdAN7WXCpyTn"
      },
      "source": [
        "Lamborghini is the most expensive car in the data frame.\n"
      ]
    },
    {
      "cell_type": "code",
      "execution_count": 127,
      "metadata": {
        "colab": {
          "base_uri": "https://localhost:8080/",
          "height": 551
        },
        "id": "MmOb6sycpyTn",
        "outputId": "eab24ede-061f-4a8e-e0be-fdb4180ac255"
      },
      "outputs": [
        {
          "output_type": "stream",
          "name": "stderr",
          "text": [
            "/usr/local/lib/python3.7/dist-packages/seaborn/distributions.py:2619: FutureWarning: `distplot` is a deprecated function and will be removed in a future version. Please adapt your code to use either `displot` (a figure-level function with similar flexibility) or `histplot` (an axes-level function for histograms).\n",
            "  warnings.warn(msg, FutureWarning)\n"
          ]
        },
        {
          "output_type": "display_data",
          "data": {
            "image/png": "[encoded data removed]",
            "text/plain": [
              "<Figure size 1440x576 with 2 Axes>"
            ]
          },
          "metadata": {
            "needs_background": "light"
          }
        }
      ],
      "source": [
        "plt.figure(figsize=(20,8))\n",
        "plt.subplot(1,2,1)\n",
        "sns.distplot(train['Price'])\n",
        "\n",
        "plt.subplot(1,2,2)\n",
        "sns.boxplot(y=train['Price'])\n",
        "plt.show()"
      ]
    },
    {
      "cell_type": "markdown",
      "metadata": {
        "id": "gBXTCGn8pyTo"
      },
      "source": [
        "Price column squweed in right, so label is not properly distributed"
      ]
    },
    {
      "cell_type": "code",
      "execution_count": 128,
      "metadata": {
        "colab": {
          "base_uri": "https://localhost:8080/",
          "height": 877
        },
        "id": "tlcQallFpyTo",
        "outputId": "067c45a3-3f7e-4c0d-ab0d-d231c088b6fd"
      },
      "outputs": [
        {
          "output_type": "display_data",
          "data": {
            "image/png": "[encoded data removed]",
            "text/plain": [
              "<Figure size 1080x1080 with 4 Axes>"
            ]
          },
          "metadata": {
            "needs_background": "light"
          }
        }
      ],
      "source": [
        "fig = plt.figure(figsize=(15,15))\n",
        "fig.subplots_adjust(hspace=0.2, wspace=0.2)\n",
        "ax1 = fig.add_subplot(2,2,1)\n",
        "plt.xlim([0, 100000])\n",
        "p1 = sns.scatterplot(x=\"Kilometers_Driven\", y=\"Price\", data=train)\n",
        "loc, labels = plt.xticks()\n",
        "ax1.set_xlabel('Kilometer')\n",
        "\n",
        "ax2 = fig.add_subplot(2,2,2)\n",
        "p2 = sns.scatterplot(x=\"Mileage\", y=\"Price\", data=train)\n",
        "loc, labels = plt.xticks()\n",
        "ax2.set_xlabel('Mileage')\n",
        "\n",
        "ax3 = fig.add_subplot(2,2,3)\n",
        "p3 = sns.scatterplot(x=\"Engine\", y=\"Price\", data=train)\n",
        "loc, labels = plt.xticks()\n",
        "ax3.set_xlabel('Engine')\n",
        "\n",
        "ax4 = fig.add_subplot(2,2,4)\n",
        "p4 = sns.scatterplot(x=\"Power\", y=\"Price\", data=train)\n",
        "loc, labels = plt.xticks()\n",
        "ax4.set_xlabel('Power')\n",
        "\n",
        "plt.show()"
      ]
    },
    {
      "cell_type": "code",
      "execution_count": 129,
      "metadata": {
        "scrolled": false,
        "colab": {
          "base_uri": "https://localhost:8080/",
          "height": 1000
        },
        "id": "xtfs0JC2pyTo",
        "outputId": "94c4e694-42a7-468c-e23c-3c9690a559fc"
      },
      "outputs": [
        {
          "output_type": "display_data",
          "data": {
            "image/png": "[encoded data removed]",
            "text/plain": [
              "<Figure size 1296x1296 with 2 Axes>"
            ]
          },
          "metadata": {
            "needs_background": "light"
          }
        }
      ],
      "source": [
        "plt.figure(figsize=(18,18))\n",
        "sns.heatmap(train.corr(),annot=True,cmap='RdYlGn')\n",
        "plt.show()"
      ]
    },
    {
      "cell_type": "code",
      "execution_count": 130,
      "metadata": {
        "scrolled": true,
        "colab": {
          "base_uri": "https://localhost:8080/",
          "height": 266
        },
        "id": "BourBpiUpyTp",
        "outputId": "39222d29-ca94-493a-e5f1-40a7ad057372"
      },
      "outputs": [
        {
          "output_type": "execute_result",
          "data": {
            "text/html": [
              "\n",
              "  <div id=\"df-c6e52613-d172-4977-a9ef-270d7c77e689\">\n",
              "    <div class=\"colab-df-container\">\n",
              "      <div>\n",
              "<style scoped>\n",
              "    .dataframe tbody tr th:only-of-type {\n",
              "        vertical-align: middle;\n",
              "    }\n",
              "\n",
              "    .dataframe tbody tr th {\n",
              "        vertical-align: top;\n",
              "    }\n",
              "\n",
              "    .dataframe thead th {\n",
              "        text-align: right;\n",
              "    }\n",
              "</style>\n",
              "<table border=\"1\" class=\"dataframe\">\n",
              "  <thead>\n",
              "    <tr style=\"text-align: right;\">\n",
              "      <th></th>\n",
              "      <th>Year</th>\n",
              "      <th>Kilometers_Driven</th>\n",
              "      <th>Mileage</th>\n",
              "      <th>Engine</th>\n",
              "      <th>Power</th>\n",
              "      <th>Seats</th>\n",
              "      <th>Price</th>\n",
              "    </tr>\n",
              "  </thead>\n",
              "  <tbody>\n",
              "    <tr>\n",
              "      <th>Year</th>\n",
              "      <td>1.000000</td>\n",
              "      <td>-0.445609</td>\n",
              "      <td>0.294795</td>\n",
              "      <td>-0.069886</td>\n",
              "      <td>0.012099</td>\n",
              "      <td>0.007555</td>\n",
              "      <td>0.297335</td>\n",
              "    </tr>\n",
              "    <tr>\n",
              "      <th>Kilometers_Driven</th>\n",
              "      <td>-0.445609</td>\n",
              "      <td>1.000000</td>\n",
              "      <td>-0.139367</td>\n",
              "      <td>0.162784</td>\n",
              "      <td>0.005479</td>\n",
              "      <td>0.213492</td>\n",
              "      <td>-0.162226</td>\n",
              "    </tr>\n",
              "    <tr>\n",
              "      <th>Mileage</th>\n",
              "      <td>0.294795</td>\n",
              "      <td>-0.139367</td>\n",
              "      <td>1.000000</td>\n",
              "      <td>-0.649155</td>\n",
              "      <td>-0.553994</td>\n",
              "      <td>-0.353987</td>\n",
              "      <td>-0.337159</td>\n",
              "    </tr>\n",
              "    <tr>\n",
              "      <th>Engine</th>\n",
              "      <td>-0.069886</td>\n",
              "      <td>0.162784</td>\n",
              "      <td>-0.649155</td>\n",
              "      <td>1.000000</td>\n",
              "      <td>0.866675</td>\n",
              "      <td>0.406018</td>\n",
              "      <td>0.657067</td>\n",
              "    </tr>\n",
              "    <tr>\n",
              "      <th>Power</th>\n",
              "      <td>0.012099</td>\n",
              "      <td>0.005479</td>\n",
              "      <td>-0.553994</td>\n",
              "      <td>0.866675</td>\n",
              "      <td>1.000000</td>\n",
              "      <td>0.102994</td>\n",
              "      <td>0.774773</td>\n",
              "    </tr>\n",
              "    <tr>\n",
              "      <th>Seats</th>\n",
              "      <td>0.007555</td>\n",
              "      <td>0.213492</td>\n",
              "      <td>-0.353987</td>\n",
              "      <td>0.406018</td>\n",
              "      <td>0.102994</td>\n",
              "      <td>1.000000</td>\n",
              "      <td>0.058275</td>\n",
              "    </tr>\n",
              "    <tr>\n",
              "      <th>Price</th>\n",
              "      <td>0.297335</td>\n",
              "      <td>-0.162226</td>\n",
              "      <td>-0.337159</td>\n",
              "      <td>0.657067</td>\n",
              "      <td>0.774773</td>\n",
              "      <td>0.058275</td>\n",
              "      <td>1.000000</td>\n",
              "    </tr>\n",
              "  </tbody>\n",
              "</table>\n",
              "</div>\n",
              "      <button class=\"colab-df-convert\" onclick=\"convertToInteractive('df-c6e52613-d172-4977-a9ef-270d7c77e689')\"\n",
              "              title=\"Convert this dataframe to an interactive table.\"\n",
              "              style=\"display:none;\">\n",
              "        \n",
              "  <svg xmlns=\"http://www.w3.org/2000/svg\" height=\"24px\"viewBox=\"0 0 24 24\"\n",
              "       width=\"24px\">\n",
              "    <path d=\"M0 0h24v24H0V0z\" fill=\"none\"/>\n",
              "    <path d=\"M18.56 5.44l.94 2.06.94-2.06 2.06-.94-2.06-.94-.94-2.06-.94 2.06-2.06.94zm-11 1L8.5 8.5l.94-2.06 2.06-.94-2.06-.94L8.5 2.5l-.94 2.06-2.06.94zm10 10l.94 2.06.94-2.06 2.06-.94-2.06-.94-.94-2.06-.94 2.06-2.06.94z\"/><path d=\"M17.41 7.96l-1.37-1.37c-.4-.4-.92-.59-1.43-.59-.52 0-1.04.2-1.43.59L10.3 9.45l-7.72 7.72c-.78.78-.78 2.05 0 2.83L4 21.41c.39.39.9.59 1.41.59.51 0 1.02-.2 1.41-.59l7.78-7.78 2.81-2.81c.8-.78.8-2.07 0-2.86zM5.41 20L4 18.59l7.72-7.72 1.47 1.35L5.41 20z\"/>\n",
              "  </svg>\n",
              "      </button>\n",
              "      \n",
              "  <style>\n",
              "    .colab-df-container {\n",
              "      display:flex;\n",
              "      flex-wrap:wrap;\n",
              "      gap: 12px;\n",
              "    }\n",
              "\n",
              "    .colab-df-convert {\n",
              "      background-color: #E8F0FE;\n",
              "      border: none;\n",
              "      border-radius: 50%;\n",
              "      cursor: pointer;\n",
              "      display: none;\n",
              "      fill: #1967D2;\n",
              "      height: 32px;\n",
              "      padding: 0 0 0 0;\n",
              "      width: 32px;\n",
              "    }\n",
              "\n",
              "    .colab-df-convert:hover {\n",
              "      background-color: #E2EBFA;\n",
              "      box-shadow: 0px 1px 2px rgba(60, 64, 67, 0.3), 0px 1px 3px 1px rgba(60, 64, 67, 0.15);\n",
              "      fill: #174EA6;\n",
              "    }\n",
              "\n",
              "    [theme=dark] .colab-df-convert {\n",
              "      background-color: #3B4455;\n",
              "      fill: #D2E3FC;\n",
              "    }\n",
              "\n",
              "    [theme=dark] .colab-df-convert:hover {\n",
              "      background-color: #434B5C;\n",
              "      box-shadow: 0px 1px 3px 1px rgba(0, 0, 0, 0.15);\n",
              "      filter: drop-shadow(0px 1px 2px rgba(0, 0, 0, 0.3));\n",
              "      fill: #FFFFFF;\n",
              "    }\n",
              "  </style>\n",
              "\n",
              "      <script>\n",
              "        const buttonEl =\n",
              "          document.querySelector('#df-c6e52613-d172-4977-a9ef-270d7c77e689 button.colab-df-convert');\n",
              "        buttonEl.style.display =\n",
              "          google.colab.kernel.accessAllowed ? 'block' : 'none';\n",
              "\n",
              "        async function convertToInteractive(key) {\n",
              "          const element = document.querySelector('#df-c6e52613-d172-4977-a9ef-270d7c77e689');\n",
              "          const dataTable =\n",
              "            await google.colab.kernel.invokeFunction('convertToInteractive',\n",
              "                                                     [key], {});\n",
              "          if (!dataTable) return;\n",
              "\n",
              "          const docLinkHtml = 'Like what you see? Visit the ' +\n",
              "            '<a target=\"_blank\" href=https://colab.research.google.com/notebooks/data_table.ipynb>data table notebook</a>'\n",
              "            + ' to learn more about interactive tables.';\n",
              "          element.innerHTML = '';\n",
              "          dataTable['output_type'] = 'display_data';\n",
              "          await google.colab.output.renderOutput(dataTable, element);\n",
              "          const docLink = document.createElement('div');\n",
              "          docLink.innerHTML = docLinkHtml;\n",
              "          element.appendChild(docLink);\n",
              "        }\n",
              "      </script>\n",
              "    </div>\n",
              "  </div>\n",
              "  "
            ],
            "text/plain": [
              "                       Year  Kilometers_Driven  ...     Seats     Price\n",
              "Year               1.000000          -0.445609  ...  0.007555  0.297335\n",
              "Kilometers_Driven -0.445609           1.000000  ...  0.213492 -0.162226\n",
              "Mileage            0.294795          -0.139367  ... -0.353987 -0.337159\n",
              "Engine            -0.069886           0.162784  ...  0.406018  0.657067\n",
              "Power              0.012099           0.005479  ...  0.102994  0.774773\n",
              "Seats              0.007555           0.213492  ...  1.000000  0.058275\n",
              "Price              0.297335          -0.162226  ...  0.058275  1.000000\n",
              "\n",
              "[7 rows x 7 columns]"
            ]
          },
          "metadata": {},
          "execution_count": 130
        }
      ],
      "source": [
        "train.corr() # Correlation coefficients ."
      ]
    },
    {
      "cell_type": "code",
      "execution_count": 131,
      "metadata": {
        "colab": {
          "base_uri": "https://localhost:8080/",
          "height": 405
        },
        "id": "_kdnt8F8pyTp",
        "outputId": "7b6629ae-8525-437c-bc3d-825b7ba1db81"
      },
      "outputs": [
        {
          "output_type": "display_data",
          "data": {
            "image/png": "[encoded data removed]",
            "text/plain": [
              "<Figure size 1296x432 with 3 Axes>"
            ]
          },
          "metadata": {
            "needs_background": "light"
          }
        }
      ],
      "source": [
        "fig = plt.figure(figsize=(18,6))\n",
        "ax1 = fig.add_subplot(1,3,1)\n",
        "sns.boxplot(x='Seats', y='Price', data=train)\n",
        "ax1.set_title('Seats vs Price')\n",
        "\n",
        "ax2 = fig.add_subplot(1,3,2)\n",
        "sns.boxplot(x='Transmission', y='Price', data=train)\n",
        "ax2.set_title('Transmission vs Price')\n",
        "\n",
        "ax3 = fig.add_subplot(1,3,3)\n",
        "sns.boxplot(x='Fuel_Type', y='Price', data=train)\n",
        "ax3.set_title('Fuel vs Price')\n",
        "\n",
        "plt.show()\n"
      ]
    },
    {
      "cell_type": "markdown",
      "metadata": {
        "id": "-uDsVy45pyTp"
      },
      "source": [
        "<b>INFERENCES</b>"
      ]
    },
    {
      "cell_type": "markdown",
      "metadata": {
        "id": "bQai0Y7JpyTp"
      },
      "source": [
        "1. Two seater car are expensive.\n",
        "2. Automatic car are expensive.\n",
        "3. Diesel cars are relatively expensive."
      ]
    },
    {
      "cell_type": "code",
      "execution_count": 132,
      "metadata": {
        "colab": {
          "base_uri": "https://localhost:8080/",
          "height": 295
        },
        "id": "v5hmWI3apyTq",
        "outputId": "1f05a378-7721-43c1-d815-85682383200c"
      },
      "outputs": [
        {
          "output_type": "display_data",
          "data": {
            "image/png": "[encoded data removed]",
            "text/plain": [
              "<Figure size 432x288 with 1 Axes>"
            ]
          },
          "metadata": {
            "needs_background": "light"
          }
        }
      ],
      "source": [
        "#year vs price\n",
        "plt.title(\"Year vs Price\")\n",
        "plt.xlabel(\"Year\")\n",
        "plt.ylabel(\"Price\")\n",
        "plt.scatter(train.Year,train.Price)\n",
        "#fuel type vs price\n",
        "plt.title(\"Fuel_Type vs Price\")\n",
        "plt.xlabel(\"Fuel_Type\")\n",
        "plt.ylabel(\"Price\")\n",
        "plt.scatter(train.Fuel_Type,train.Price)\n",
        "#transmission vs price\n",
        "plt.title(\"Transmission vs Price\")\n",
        "plt.xlabel(\"Transmission\")\n",
        "plt.ylabel(\"Price\")\n",
        "plt.scatter(train.Transmission,train.Price)\n",
        "#owner type vs price\n",
        "plt.title(\"Owner_Type vs Price\")\n",
        "plt.xlabel(\"Owner\")\n",
        "plt.ylabel(\"Price\")\n",
        "plt.scatter(train.Owner_Type,train.Price)\n",
        "plt.show()"
      ]
    },
    {
      "cell_type": "markdown",
      "metadata": {
        "id": "S0pPVEU4pyTq"
      },
      "source": [
        "## LABEL ENCODING AND ONE HOT ENCODING "
      ]
    },
    {
      "cell_type": "code",
      "execution_count": 133,
      "metadata": {
        "scrolled": false,
        "colab": {
          "base_uri": "https://localhost:8080/"
        },
        "id": "GjHsUsQ1pyTq",
        "outputId": "f9ab7cd0-e7ad-4379-972d-5083ed5dc369"
      },
      "outputs": [
        {
          "output_type": "stream",
          "name": "stdout",
          "text": [
            "['Jaipur' 'Pune' 'Hyderabad' 'Delhi' 'Kolkata' 'Mumbai' 'Kochi'\n",
            " 'Bangalore' 'Coimbatore' 'Ahmedabad' 'Chennai']\n",
            "['Petrol' 'Diesel' 'CNG' 'LPG']\n",
            "['Manual' 'Automatic']\n",
            "['First' 'Second' 'Fourth & Above' 'Third']\n",
            "[2013 2009 2008 2014 2011 2012 2019 2006 2005 2015 2016 2017 2010 2018\n",
            " 2007 2004 2002 2001 2003 2000 1998 1999]\n",
            "['Hyundai' 'Toyota' 'Skoda' 'Maruti' 'Mahindra' 'Honda' 'Ford'\n",
            " 'Mitsubishi' 'Renault' 'Nissan' 'Volkswagen' 'Audi' 'BMW' 'Mercedes-Benz'\n",
            " 'Tata' 'Land' 'Volvo' 'Chevrolet' 'Fiat' 'Porsche' 'Jaguar' 'Datsun'\n",
            " 'Mini' 'Jeep' 'Ambassador' 'ISUZU' 'Force' 'Lamborghini' 'Bentley']\n"
          ]
        }
      ],
      "source": [
        "print(train['Location'].unique())\n",
        "print(train['Fuel_Type'].unique())\n",
        "print(train['Transmission'].unique())\n",
        "print(train['Owner_Type'].unique())\n",
        "print(train['Year'].unique())\n",
        "print(train['Brand'].unique())"
      ]
    },
    {
      "cell_type": "code",
      "execution_count": 134,
      "metadata": {
        "colab": {
          "base_uri": "https://localhost:8080/"
        },
        "id": "5Dzn9NYzpyTr",
        "outputId": "7da34f2c-eef9-46f9-9ce6-279195be8af4"
      },
      "outputs": [
        {
          "output_type": "execute_result",
          "data": {
            "text/plain": [
              "Maruti           1175\n",
              "Hyundai          1051\n",
              "Honda             600\n",
              "Toyota            394\n",
              "Volkswagen        314\n",
              "Mercedes-Benz     304\n",
              "Ford              294\n",
              "Mahindra          268\n",
              "BMW               261\n",
              "Audi              234\n",
              "Tata              183\n",
              "Skoda             170\n",
              "Renault           145\n",
              "Chevrolet         120\n",
              "Nissan             89\n",
              "Land               51\n",
              "Jaguar             40\n",
              "Mitsubishi         27\n",
              "Mini               26\n",
              "Fiat               23\n",
              "Volvo              21\n",
              "Porsche            16\n",
              "Jeep               15\n",
              "Datsun             13\n",
              "Force               3\n",
              "ISUZU               3\n",
              "Lamborghini         1\n",
              "Ambassador          1\n",
              "Bentley             1\n",
              "Name: Brand, dtype: int64"
            ]
          },
          "metadata": {},
          "execution_count": 134
        }
      ],
      "source": [
        "train['Brand'].value_counts()"
      ]
    },
    {
      "cell_type": "code",
      "execution_count": 135,
      "metadata": {
        "colab": {
          "base_uri": "https://localhost:8080/"
        },
        "id": "SdBp-7jEpyTr",
        "outputId": "cf8c6632-7d76-453b-e321-fcccf8caf907"
      },
      "outputs": [
        {
          "output_type": "stream",
          "name": "stdout",
          "text": [
            "            Brand       Price\n",
            "0      Ambassador    1.350000\n",
            "1          Datsun    3.049231\n",
            "2       Chevrolet    3.057333\n",
            "3            Fiat    3.570435\n",
            "4            Tata    3.605574\n",
            "5          Maruti    4.554868\n",
            "6          Nissan    4.784719\n",
            "7      Volkswagen    5.306815\n",
            "8           Honda    5.424167\n",
            "9         Hyundai    5.537831\n",
            "10        Renault    5.799034\n",
            "11           Ford    6.957721\n",
            "12          Skoda    7.612471\n",
            "13       Mahindra    8.058955\n",
            "14          Force    9.333333\n",
            "15     Mitsubishi   11.058889\n",
            "16         Toyota   11.907970\n",
            "17          ISUZU   14.696667\n",
            "18           Jeep   18.718667\n",
            "19          Volvo   18.802857\n",
            "20            BMW   25.288046\n",
            "21           Audi   25.559402\n",
            "22  Mercedes-Benz   26.483783\n",
            "23           Mini   26.896923\n",
            "24         Jaguar   37.632250\n",
            "25           Land   42.526078\n",
            "26        Porsche   49.204375\n",
            "27        Bentley   59.000000\n",
            "28    Lamborghini  120.000000\n"
          ]
        }
      ],
      "source": [
        "train_df = pd.DataFrame(train.groupby('Brand')['Price'].mean())\n",
        "train_df=train_df.sort_values(by=['Price'])\n",
        "train_df.reset_index(inplace=True)\n",
        "print(train_df)"
      ]
    },
    {
      "cell_type": "markdown",
      "metadata": {
        "id": "qPsjgPdfpyTr"
      },
      "source": [
        "<b>Converting catagorical variables like Owner_Type and Brand into numerical variables.</b>"
      ]
    },
    {
      "cell_type": "code",
      "execution_count": 136,
      "metadata": {
        "id": "Dn9nE5tepyTs"
      },
      "outputs": [],
      "source": [
        "train.replace({\"First\":1,\"Second\":2,\"Third\": 3,\"Fourth & Above\":4},inplace=True)"
      ]
    },
    {
      "cell_type": "markdown",
      "metadata": {
        "id": "RW8p9h5wpyTs"
      },
      "source": [
        "<b>Numbers have been assigned to brands in such a manner that brand which have higher mean prices got higher number. For \n",
        "eg Lamborghini have highest mean price so got the largest number.</b>"
      ]
    },
    {
      "cell_type": "code",
      "execution_count": 137,
      "metadata": {
        "id": "4IlfvGXLpyTs"
      },
      "outputs": [],
      "source": [
        "train.replace({'Ambassador':1,'Datsun':2, 'Chevrolet':3, 'Fiat':4, 'Tata':5, 'Maruti':6, 'Nissan':7, 'Volkswagen':8, \n",
        "                'Honda':9, 'Hyundai':10, 'Renault':11, 'Ford':12, 'Skoda':13, 'Mahindra':14, 'Force':15, 'Mitsubishi':16, 'Toyota':17, \n",
        "                'ISUZU':18, 'Jeep':19, 'Volvo':20, 'BMW':21, 'Audi':22, 'Mercedes-Benz':23, 'Mini':24, 'Jaguar':25, 'Land':26, 'Porsche':26,\n",
        "                'Bentley':27, 'Lamborghini':28},inplace=True)"
      ]
    },
    {
      "cell_type": "markdown",
      "metadata": {
        "id": "aWHISWf_pyTs"
      },
      "source": [
        "<b>Doing one hot encoding for Fuel_Type and Transmission using get_dummies</b>"
      ]
    },
    {
      "cell_type": "code",
      "execution_count": 138,
      "metadata": {
        "id": "pq3LgDM6pyTt"
      },
      "outputs": [],
      "source": [
        "var = 'Fuel_Type'\n",
        "Fuel_Type = train[[var]]\n",
        "Fuel_Type = pd.get_dummies(Fuel_Type,drop_first=False)\n",
        "\n",
        "var = 'Transmission'\n",
        "Transmission = train[[var]]\n",
        "Transmission = pd.get_dummies(Transmission,drop_first=False)\n",
        "train= pd.concat([train,Transmission,Fuel_Type],axis=1)"
      ]
    },
    {
      "cell_type": "markdown",
      "metadata": {
        "id": "eY0CWuo8pyTt"
      },
      "source": [
        "<b>Removing redundant and less important columns.</b>"
      ]
    },
    {
      "cell_type": "code",
      "execution_count": 139,
      "metadata": {
        "id": "KwVRCtnVpyTt"
      },
      "outputs": [],
      "source": [
        "train.drop(['Transmission','Transmission_Manual','Model','Fuel_Type_Diesel','Fuel_Type','Location'], axis=1, inplace=True)"
      ]
    },
    {
      "cell_type": "markdown",
      "metadata": {
        "id": "g6rQQmn_pyTu"
      },
      "source": [
        "<b>Replacing year of manufacture by age of the car</b>"
      ]
    },
    {
      "cell_type": "code",
      "execution_count": 140,
      "metadata": {
        "id": "aYRQPYmbpyTu"
      },
      "outputs": [],
      "source": [
        "curr_time = datetime.datetime.now()\n",
        "train['Year'] = train['Year'].apply(lambda x : curr_time.year - x)"
      ]
    },
    {
      "cell_type": "markdown",
      "metadata": {
        "id": "jfPZJPDTpyTu"
      },
      "source": [
        "<b>Reordering the columns</b>"
      ]
    },
    {
      "cell_type": "code",
      "execution_count": 141,
      "metadata": {
        "id": "NF3NE-hNpyTu"
      },
      "outputs": [],
      "source": [
        "train = train[['Brand', 'Year','Kilometers_Driven', 'Fuel_Type_CNG', 'Fuel_Type_LPG', 'Fuel_Type_Petrol', 'Transmission_Automatic',\n",
        "      'Owner_Type', 'Mileage', 'Engine', 'Power', 'Seats', 'Price']]"
      ]
    },
    {
      "cell_type": "code",
      "execution_count": 142,
      "metadata": {
        "scrolled": true,
        "colab": {
          "base_uri": "https://localhost:8080/",
          "height": 268
        },
        "id": "FchlzVaEpyTv",
        "outputId": "474db094-f485-4787-c47f-9cf49a69d4ad"
      },
      "outputs": [
        {
          "output_type": "execute_result",
          "data": {
            "text/html": [
              "\n",
              "  <div id=\"df-6fc4a08b-1cf2-4246-adc4-62be34c83a99\">\n",
              "    <div class=\"colab-df-container\">\n",
              "      <div>\n",
              "<style scoped>\n",
              "    .dataframe tbody tr th:only-of-type {\n",
              "        vertical-align: middle;\n",
              "    }\n",
              "\n",
              "    .dataframe tbody tr th {\n",
              "        vertical-align: top;\n",
              "    }\n",
              "\n",
              "    .dataframe thead th {\n",
              "        text-align: right;\n",
              "    }\n",
              "</style>\n",
              "<table border=\"1\" class=\"dataframe\">\n",
              "  <thead>\n",
              "    <tr style=\"text-align: right;\">\n",
              "      <th></th>\n",
              "      <th>Brand</th>\n",
              "      <th>Year</th>\n",
              "      <th>Kilometers_Driven</th>\n",
              "      <th>Fuel_Type_CNG</th>\n",
              "      <th>Fuel_Type_LPG</th>\n",
              "      <th>Fuel_Type_Petrol</th>\n",
              "      <th>Transmission_Automatic</th>\n",
              "      <th>Owner_Type</th>\n",
              "      <th>Mileage</th>\n",
              "      <th>Engine</th>\n",
              "      <th>Power</th>\n",
              "      <th>Seats</th>\n",
              "      <th>Price</th>\n",
              "    </tr>\n",
              "  </thead>\n",
              "  <tbody>\n",
              "    <tr>\n",
              "      <th>0</th>\n",
              "      <td>10</td>\n",
              "      <td>9</td>\n",
              "      <td>46230</td>\n",
              "      <td>0</td>\n",
              "      <td>0</td>\n",
              "      <td>1</td>\n",
              "      <td>0</td>\n",
              "      <td>1</td>\n",
              "      <td>19.81</td>\n",
              "      <td>1086.0</td>\n",
              "      <td>68.05</td>\n",
              "      <td>5.0</td>\n",
              "      <td>3.10</td>\n",
              "    </tr>\n",
              "    <tr>\n",
              "      <th>1</th>\n",
              "      <td>17</td>\n",
              "      <td>13</td>\n",
              "      <td>118000</td>\n",
              "      <td>0</td>\n",
              "      <td>0</td>\n",
              "      <td>0</td>\n",
              "      <td>0</td>\n",
              "      <td>1</td>\n",
              "      <td>12.80</td>\n",
              "      <td>2494.0</td>\n",
              "      <td>102.00</td>\n",
              "      <td>8.0</td>\n",
              "      <td>4.50</td>\n",
              "    </tr>\n",
              "    <tr>\n",
              "      <th>2</th>\n",
              "      <td>13</td>\n",
              "      <td>14</td>\n",
              "      <td>122397</td>\n",
              "      <td>0</td>\n",
              "      <td>0</td>\n",
              "      <td>0</td>\n",
              "      <td>0</td>\n",
              "      <td>1</td>\n",
              "      <td>17.50</td>\n",
              "      <td>1896.0</td>\n",
              "      <td>106.00</td>\n",
              "      <td>5.0</td>\n",
              "      <td>4.40</td>\n",
              "    </tr>\n",
              "    <tr>\n",
              "      <th>3</th>\n",
              "      <td>6</td>\n",
              "      <td>8</td>\n",
              "      <td>79870</td>\n",
              "      <td>0</td>\n",
              "      <td>0</td>\n",
              "      <td>0</td>\n",
              "      <td>0</td>\n",
              "      <td>1</td>\n",
              "      <td>20.77</td>\n",
              "      <td>1248.0</td>\n",
              "      <td>88.76</td>\n",
              "      <td>7.0</td>\n",
              "      <td>5.35</td>\n",
              "    </tr>\n",
              "    <tr>\n",
              "      <th>4</th>\n",
              "      <td>10</td>\n",
              "      <td>11</td>\n",
              "      <td>34994</td>\n",
              "      <td>0</td>\n",
              "      <td>0</td>\n",
              "      <td>0</td>\n",
              "      <td>0</td>\n",
              "      <td>1</td>\n",
              "      <td>22.32</td>\n",
              "      <td>1582.0</td>\n",
              "      <td>126.32</td>\n",
              "      <td>5.0</td>\n",
              "      <td>3.90</td>\n",
              "    </tr>\n",
              "  </tbody>\n",
              "</table>\n",
              "</div>\n",
              "      <button class=\"colab-df-convert\" onclick=\"convertToInteractive('df-6fc4a08b-1cf2-4246-adc4-62be34c83a99')\"\n",
              "              title=\"Convert this dataframe to an interactive table.\"\n",
              "              style=\"display:none;\">\n",
              "        \n",
              "  <svg xmlns=\"http://www.w3.org/2000/svg\" height=\"24px\"viewBox=\"0 0 24 24\"\n",
              "       width=\"24px\">\n",
              "    <path d=\"M0 0h24v24H0V0z\" fill=\"none\"/>\n",
              "    <path d=\"M18.56 5.44l.94 2.06.94-2.06 2.06-.94-2.06-.94-.94-2.06-.94 2.06-2.06.94zm-11 1L8.5 8.5l.94-2.06 2.06-.94-2.06-.94L8.5 2.5l-.94 2.06-2.06.94zm10 10l.94 2.06.94-2.06 2.06-.94-2.06-.94-.94-2.06-.94 2.06-2.06.94z\"/><path d=\"M17.41 7.96l-1.37-1.37c-.4-.4-.92-.59-1.43-.59-.52 0-1.04.2-1.43.59L10.3 9.45l-7.72 7.72c-.78.78-.78 2.05 0 2.83L4 21.41c.39.39.9.59 1.41.59.51 0 1.02-.2 1.41-.59l7.78-7.78 2.81-2.81c.8-.78.8-2.07 0-2.86zM5.41 20L4 18.59l7.72-7.72 1.47 1.35L5.41 20z\"/>\n",
              "  </svg>\n",
              "      </button>\n",
              "      \n",
              "  <style>\n",
              "    .colab-df-container {\n",
              "      display:flex;\n",
              "      flex-wrap:wrap;\n",
              "      gap: 12px;\n",
              "    }\n",
              "\n",
              "    .colab-df-convert {\n",
              "      background-color: #E8F0FE;\n",
              "      border: none;\n",
              "      border-radius: 50%;\n",
              "      cursor: pointer;\n",
              "      display: none;\n",
              "      fill: #1967D2;\n",
              "      height: 32px;\n",
              "      padding: 0 0 0 0;\n",
              "      width: 32px;\n",
              "    }\n",
              "\n",
              "    .colab-df-convert:hover {\n",
              "      background-color: #E2EBFA;\n",
              "      box-shadow: 0px 1px 2px rgba(60, 64, 67, 0.3), 0px 1px 3px 1px rgba(60, 64, 67, 0.15);\n",
              "      fill: #174EA6;\n",
              "    }\n",
              "\n",
              "    [theme=dark] .colab-df-convert {\n",
              "      background-color: #3B4455;\n",
              "      fill: #D2E3FC;\n",
              "    }\n",
              "\n",
              "    [theme=dark] .colab-df-convert:hover {\n",
              "      background-color: #434B5C;\n",
              "      box-shadow: 0px 1px 3px 1px rgba(0, 0, 0, 0.15);\n",
              "      filter: drop-shadow(0px 1px 2px rgba(0, 0, 0, 0.3));\n",
              "      fill: #FFFFFF;\n",
              "    }\n",
              "  </style>\n",
              "\n",
              "      <script>\n",
              "        const buttonEl =\n",
              "          document.querySelector('#df-6fc4a08b-1cf2-4246-adc4-62be34c83a99 button.colab-df-convert');\n",
              "        buttonEl.style.display =\n",
              "          google.colab.kernel.accessAllowed ? 'block' : 'none';\n",
              "\n",
              "        async function convertToInteractive(key) {\n",
              "          const element = document.querySelector('#df-6fc4a08b-1cf2-4246-adc4-62be34c83a99');\n",
              "          const dataTable =\n",
              "            await google.colab.kernel.invokeFunction('convertToInteractive',\n",
              "                                                     [key], {});\n",
              "          if (!dataTable) return;\n",
              "\n",
              "          const docLinkHtml = 'Like what you see? Visit the ' +\n",
              "            '<a target=\"_blank\" href=https://colab.research.google.com/notebooks/data_table.ipynb>data table notebook</a>'\n",
              "            + ' to learn more about interactive tables.';\n",
              "          element.innerHTML = '';\n",
              "          dataTable['output_type'] = 'display_data';\n",
              "          await google.colab.output.renderOutput(dataTable, element);\n",
              "          const docLink = document.createElement('div');\n",
              "          docLink.innerHTML = docLinkHtml;\n",
              "          element.appendChild(docLink);\n",
              "        }\n",
              "      </script>\n",
              "    </div>\n",
              "  </div>\n",
              "  "
            ],
            "text/plain": [
              "   Brand  Year  Kilometers_Driven  Fuel_Type_CNG  ...  Engine   Power  Seats  Price\n",
              "0     10     9              46230              0  ...  1086.0   68.05    5.0   3.10\n",
              "1     17    13             118000              0  ...  2494.0  102.00    8.0   4.50\n",
              "2     13    14             122397              0  ...  1896.0  106.00    5.0   4.40\n",
              "3      6     8              79870              0  ...  1248.0   88.76    7.0   5.35\n",
              "4     10    11              34994              0  ...  1582.0  126.32    5.0   3.90\n",
              "\n",
              "[5 rows x 13 columns]"
            ]
          },
          "metadata": {},
          "execution_count": 142
        }
      ],
      "source": [
        "train.head()"
      ]
    },
    {
      "cell_type": "markdown",
      "metadata": {
        "id": "_o2G1geUpyTv"
      },
      "source": [
        "<b>Correlation Matrix</b>"
      ]
    },
    {
      "cell_type": "code",
      "execution_count": 143,
      "metadata": {
        "colab": {
          "base_uri": "https://localhost:8080/",
          "height": 543
        },
        "id": "4Kp_woqKpyTv",
        "outputId": "e0ce9b9b-ecc4-4cdd-8e70-d8a9258504fa"
      },
      "outputs": [
        {
          "output_type": "display_data",
          "data": {
            "image/png": "[encoded data removed]",
            "text/plain": [
              "<Figure size 720x504 with 2 Axes>"
            ]
          },
          "metadata": {
            "needs_background": "light"
          }
        }
      ],
      "source": [
        "corrMatrix = train.corr()\n",
        "plt.figure(figsize=(10,7))\n",
        "sns.heatmap(corrMatrix, annot=True, linewidths=3, linecolor='black')\n",
        "plt.show()"
      ]
    },
    {
      "cell_type": "markdown",
      "metadata": {
        "id": "Murn4BfXpyTw"
      },
      "source": [
        "1. Engine, power, price, brand are highly correlated to each other.\n",
        "2. A branded company have costly car with a good engine, power, price, brand."
      ]
    },
    {
      "cell_type": "code",
      "execution_count": 144,
      "metadata": {
        "scrolled": false,
        "colab": {
          "base_uri": "https://localhost:8080/"
        },
        "id": "CUpsbpJ2pyTw",
        "outputId": "439e4795-e780-44ce-def8-98b04188c48c"
      },
      "outputs": [
        {
          "output_type": "execute_result",
          "data": {
            "text/plain": [
              "Brand                       int64\n",
              "Year                        int64\n",
              "Kilometers_Driven           int64\n",
              "Fuel_Type_CNG               uint8\n",
              "Fuel_Type_LPG               uint8\n",
              "Fuel_Type_Petrol            uint8\n",
              "Transmission_Automatic      uint8\n",
              "Owner_Type                  int64\n",
              "Mileage                   float64\n",
              "Engine                    float64\n",
              "Power                     float64\n",
              "Seats                     float64\n",
              "Price                     float64\n",
              "dtype: object"
            ]
          },
          "metadata": {},
          "execution_count": 144
        }
      ],
      "source": [
        "train.dtypes"
      ]
    },
    {
      "cell_type": "markdown",
      "metadata": {
        "id": "V8FzXiABpyTw"
      },
      "source": [
        "<b>All variables are converted to either float or integer as Machine learning alorithms works with a numeric value.</b>"
      ]
    },
    {
      "cell_type": "code",
      "execution_count": 145,
      "metadata": {
        "colab": {
          "base_uri": "https://localhost:8080/"
        },
        "id": "Cwuh_2hmpyTx",
        "outputId": "ad676355-147e-4f06-990b-de2be1100ffb"
      },
      "outputs": [
        {
          "output_type": "stream",
          "name": "stdout",
          "text": [
            "(5843, 10)\n"
          ]
        }
      ],
      "source": [
        "X = train.loc[:,['Brand', 'Year','Kilometers_Driven', 'Fuel_Type_CNG', 'Fuel_Type_LPG', 'Fuel_Type_Petrol', 'Transmission_Automatic',\n",
        "      'Owner_Type', 'Power', 'Seats']]\n",
        "print(X.shape)\n",
        "y = train.loc[:,['Price']]"
      ]
    },
    {
      "cell_type": "markdown",
      "metadata": {
        "id": "YAWn5dBTpyTx"
      },
      "source": [
        "<b>Plotting graph of feature importances for better visualization</b>"
      ]
    },
    {
      "cell_type": "code",
      "execution_count": 146,
      "metadata": {
        "colab": {
          "base_uri": "https://localhost:8080/",
          "height": 483
        },
        "id": "ueBHpbYgpyTx",
        "outputId": "ea5a401a-dfd2-4871-9d8e-9e3da08ef853"
      },
      "outputs": [
        {
          "output_type": "display_data",
          "data": {
            "image/png": "[encoded data removed]",
            "text/plain": [
              "<Figure size 864x576 with 1 Axes>"
            ]
          },
          "metadata": {
            "needs_background": "light"
          }
        }
      ],
      "source": [
        "from sklearn.ensemble import ExtraTreesRegressor\n",
        "selection= ExtraTreesRegressor()\n",
        "selection.fit(X,y.values.ravel())\n",
        "plt.figure(figsize = (12,8))\n",
        "feat_importances = pd.Series(selection.feature_importances_, index=X.columns)\n",
        "feat_importances.nlargest(20).plot(kind='barh')\n",
        "plt.show()"
      ]
    },
    {
      "cell_type": "markdown",
      "metadata": {
        "id": "SFuuvytkpyTx"
      },
      "source": [
        "<b>Train test split</b>"
      ]
    },
    {
      "cell_type": "code",
      "execution_count": 147,
      "metadata": {
        "id": "d9MP9pP7pyTy"
      },
      "outputs": [],
      "source": [
        "X_train, X_test, y_train, y_test=train_test_split(X, y, test_size=0.3,random_state=25)"
      ]
    },
    {
      "cell_type": "code",
      "execution_count": 148,
      "metadata": {
        "colab": {
          "base_uri": "https://localhost:8080/"
        },
        "id": "a2lWflAnpyTy",
        "outputId": "d5d30dff-eb75-4155-9cc6-83ffcc5b470e"
      },
      "outputs": [
        {
          "output_type": "stream",
          "name": "stdout",
          "text": [
            "(4090, 10) (1753, 10) (4090, 1) (1753, 1)\n"
          ]
        }
      ],
      "source": [
        "print(X_train.shape,X_test.shape,y_train.shape,y_test.shape)"
      ]
    },
    {
      "cell_type": "markdown",
      "metadata": {
        "id": "x7bm_qobpyTy"
      },
      "source": [
        "<b>Scaling the dataframe</b>"
      ]
    },
    {
      "cell_type": "code",
      "execution_count": 149,
      "metadata": {
        "id": "Bdwd0IMtpyTy"
      },
      "outputs": [],
      "source": [
        "import pandas as pd\n",
        "from sklearn.preprocessing import StandardScaler\n",
        "scaler = StandardScaler()\n",
        "scaler.fit(X_train)\n",
        "X_train=scaler.transform(X_train)\n",
        "X_test=scaler.transform(X_test)"
      ]
    },
    {
      "cell_type": "markdown",
      "metadata": {
        "id": "cv0vBFUVpyTz"
      },
      "source": [
        "# APPLYING DIFFERENT MACHINE LEARNING ALGORITHMS"
      ]
    },
    {
      "cell_type": "markdown",
      "metadata": {
        "id": "rWHnlKpRpyTz"
      },
      "source": [
        "## 1. Linear Regression "
      ]
    },
    {
      "cell_type": "code",
      "execution_count": 150,
      "metadata": {
        "id": "myaJEjlupyTz",
        "outputId": "63ebf68e-67ec-43f1-bfd6-6f17d32d478c",
        "colab": {
          "base_uri": "https://localhost:8080/"
        }
      },
      "outputs": [
        {
          "output_type": "stream",
          "name": "stdout",
          "text": [
            "Accuracy on Traing set:  71.38554434410655 %\n",
            "Accuracy on Testing set:  74.3303794972467 %\n"
          ]
        }
      ],
      "source": [
        "from sklearn.linear_model import LinearRegression\n",
        "model1 = LinearRegression()\n",
        "model1.fit(X_train, y_train)\n",
        "y_pred1= model1.predict(X_test)\n",
        "print(\"Accuracy on Traing set: \",model1.score(X_train,y_train)*100,'%')\n",
        "print(\"Accuracy on Testing set: \",model1.score(X_test,y_test)*100,'%')"
      ]
    },
    {
      "cell_type": "code",
      "execution_count": 151,
      "metadata": {
        "id": "4nyOzm3CpyTz",
        "outputId": "47ba76a2-b0fa-4d7c-86a6-66f0ceeb99b7",
        "colab": {
          "base_uri": "https://localhost:8080/"
        }
      },
      "outputs": [
        {
          "output_type": "stream",
          "name": "stdout",
          "text": [
            "Mean Absolute Error: 3.5137116798463466\n",
            "Mean Squared Error: 31.64330775840971\n",
            "Root Mean Squared Error: 5.625238462359592\n",
            "R2 score : 0.743304\n"
          ]
        }
      ],
      "source": [
        "from sklearn import metrics\n",
        "from sklearn.metrics import r2_score\n",
        "\n",
        "print('Mean Absolute Error:', metrics.mean_absolute_error(y_test, y_pred1))\n",
        "print('Mean Squared Error:', metrics.mean_squared_error(y_test, y_pred1))\n",
        "print('Root Mean Squared Error:', np.sqrt(metrics.mean_squared_error(y_test, y_pred1)))\n",
        "print(\"R2 score : %f\" % r2_score(y_test,y_pred1))"
      ]
    },
    {
      "cell_type": "code",
      "execution_count": 152,
      "metadata": {
        "scrolled": true,
        "id": "BgBvfzuMpyT0",
        "outputId": "727845b8-6643-4787-9768-17556f06dae5",
        "colab": {
          "base_uri": "https://localhost:8080/"
        }
      },
      "outputs": [
        {
          "output_type": "stream",
          "name": "stdout",
          "text": [
            "{'Brand': 2.6831230402229425, 'Year': -2.703739837515019, 'Kilometers_Driven': -0.7835582650739555, 'Fuel_Type_CNG': 0.01715934209389358, 'Fuel_Type_LPG': 0.1120605507833298, 'Fuel_Type_Petrol': -0.85456280952419, 'Transmission_Automatic': 0.503125469143503, 'Owner_Type': 0.019246572279199486, 'Power': 6.021117632199607, 'Seats': -0.3245618483265229}\n"
          ]
        }
      ],
      "source": [
        "test_values=list(list(model1.coef_)[0])\n",
        "test_keys=list(X.columns)\n",
        "res={}\n",
        "for key in test_keys:\n",
        "    for value in test_values:\n",
        "        res[key]=value\n",
        "        test_values.remove(value)\n",
        "        break\n",
        "print(res)"
      ]
    },
    {
      "cell_type": "code",
      "execution_count": 153,
      "metadata": {
        "id": "dLikRxBlpyT0",
        "outputId": "f91fdc37-4678-440f-8ffd-60d3bf8d848d",
        "colab": {
          "base_uri": "https://localhost:8080/"
        }
      },
      "outputs": [
        {
          "output_type": "stream",
          "name": "stdout",
          "text": [
            "[9.57429095]\n"
          ]
        }
      ],
      "source": [
        "print(model1.intercept_)"
      ]
    },
    {
      "cell_type": "code",
      "execution_count": 154,
      "metadata": {
        "id": "SDp66_IXpyT1",
        "outputId": "53e92999-4255-404d-a1b4-52e81fd16b3b",
        "colab": {
          "base_uri": "https://localhost:8080/",
          "height": 296
        }
      },
      "outputs": [
        {
          "output_type": "execute_result",
          "data": {
            "text/plain": [
              "Text(0, 0.5, 'Actual Price of the Car')"
            ]
          },
          "metadata": {},
          "execution_count": 154
        },
        {
          "output_type": "display_data",
          "data": {
            "image/png": "[encoded data removed]",
            "text/plain": [
              "<Figure size 432x288 with 1 Axes>"
            ]
          },
          "metadata": {
            "needs_background": "light"
          }
        }
      ],
      "source": [
        "plt.scatter(y_pred1,y_test)\n",
        "plt.xlabel('Predicted Price of the Car')\n",
        "plt.ylabel('Actual Price of the Car')"
      ]
    },
    {
      "cell_type": "markdown",
      "metadata": {
        "id": "wuFxwv6DpyT1"
      },
      "source": [
        "## 2. Random Forest Regressor"
      ]
    },
    {
      "cell_type": "code",
      "execution_count": 157,
      "metadata": {
        "id": "vAba0SSTpyT1",
        "outputId": "52c43c59-2d9c-4c16-8418-39b52cc9d1af",
        "colab": {
          "base_uri": "https://localhost:8080/"
        }
      },
      "outputs": [
        {
          "output_type": "stream",
          "name": "stdout",
          "text": [
            "Accuracy on Traing set:  0.9830529852048637\n",
            "Accuracy on Testing set:  0.8709829108576993\n"
          ]
        }
      ],
      "source": [
        "from sklearn.ensemble import RandomForestRegressor\n",
        "model2 = RandomForestRegressor()\n",
        "model2.fit(X_train, y_train.values.ravel())\n",
        "y_pred= model2.predict(X_test)\n",
        "print(\"Accuracy on Traing set: \",model2.score(X_train,y_train))\n",
        "print(\"Accuracy on Testing set: \",model2.score(X_test,y_test))"
      ]
    },
    {
      "cell_type": "code",
      "execution_count": 160,
      "metadata": {
        "id": "-0BpLLHbpyT1",
        "outputId": "e1ed4223-7ab8-4948-aa5b-c11e7e2f540e",
        "colab": {
          "base_uri": "https://localhost:8080/"
        }
      },
      "outputs": [
        {
          "output_type": "stream",
          "name": "stdout",
          "text": [
            "Mean Absolute Error: 3.5137116798463466\n",
            "Mean Squared Error: 31.64330775840971\n",
            "Root Mean Squared Error: 5.625238462359592\n",
            "R2 score : 0.743304\n"
          ]
        }
      ],
      "source": [
        "print('Mean Absolute Error:', metrics.mean_absolute_error(y_test, y_pred1))\n",
        "print('Mean Squared Error:', metrics.mean_squared_error(y_test, y_pred1))\n",
        "print('Root Mean Squared Error:', np.sqrt(metrics.mean_squared_error(y_test, y_pred1)))\n",
        "print(\"R2 score : %f\" % r2_score(y_test,y_pred1))"
      ]
    },
    {
      "cell_type": "code",
      "execution_count": 162,
      "metadata": {
        "scrolled": true,
        "id": "V5dOkFnZpyT2",
        "outputId": "2de1abb5-5e9b-488b-c8e0-51799ba888b6",
        "colab": {
          "base_uri": "https://localhost:8080/",
          "height": 296
        }
      },
      "outputs": [
        {
          "output_type": "execute_result",
          "data": {
            "text/plain": [
              "Text(0, 0.5, 'Actual Price of the Car')"
            ]
          },
          "metadata": {},
          "execution_count": 162
        },
        {
          "output_type": "display_data",
          "data": {
            "image/png": "[encoded data removed]",
            "text/plain": [
              "<Figure size 432x288 with 1 Axes>"
            ]
          },
          "metadata": {
            "needs_background": "light"
          }
        }
      ],
      "source": [
        "plt.scatter(y_pred1,y_test,)\n",
        "plt.xlabel('Predicted Price of the Car')\n",
        "plt.ylabel('Actual Price of the Car')"
      ]
    },
    {
      "cell_type": "markdown",
      "metadata": {
        "id": "1sZfQJ31pyT2"
      },
      "source": [
        "## 3. XGBoost Regressor"
      ]
    },
    {
      "cell_type": "code",
      "execution_count": 166,
      "metadata": {
        "id": "qfzskRV1pyT2",
        "outputId": "0b41d9d2-3bea-4b21-b688-d410666df4ad",
        "colab": {
          "base_uri": "https://localhost:8080/"
        }
      },
      "outputs": [
        {
          "output_type": "stream",
          "name": "stdout",
          "text": [
            "[07:36:22] WARNING: /workspace/src/objective/regression_obj.cu:152: reg:linear is now deprecated in favor of reg:squarederror.\n",
            "Accuracy on Traing set:  92.8452490328429 %\n",
            "Accuracy on Testing set:  88.88495493565645 %\n"
          ]
        }
      ],
      "source": [
        "from xgboost import XGBRegressor\n",
        "\n",
        "model3 = XGBRegressor(n_estimators=1000, learning_rate=0.05)\n",
        "model3.fit(X_train, y_train, early_stopping_rounds=5, eval_set=[(X_test, y_test)], verbose=False)\n",
        "y_pred3 = model3.predict(X_test)\n",
        "print(\"Accuracy on Traing set: \",model3.score(X_train,y_train)*100,'%')\n",
        "print(\"Accuracy on Testing set: \",model3.score(X_test,y_test)*100,'%')"
      ]
    },
    {
      "cell_type": "code",
      "execution_count": 167,
      "metadata": {
        "id": "AAtMOAR6pyT3",
        "outputId": "b0650841-8ccf-425e-e048-276f0f20a526",
        "colab": {
          "base_uri": "https://localhost:8080/"
        }
      },
      "outputs": [
        {
          "output_type": "stream",
          "name": "stdout",
          "text": [
            "Mean Absolute Error: 1.7737600136129636\n",
            "Mean Squared Error: 13.701674774735801\n",
            "Root Mean Squared Error: 3.7015773360468645\n",
            "R2 score : 0.888850\n"
          ]
        }
      ],
      "source": [
        "print('Mean Absolute Error:', metrics.mean_absolute_error(y_test, y_pred3))\n",
        "print('Mean Squared Error:', metrics.mean_squared_error(y_test, y_pred3))\n",
        "print('Root Mean Squared Error:', np.sqrt(metrics.mean_squared_error(y_test, y_pred3)))\n",
        "print(\"R2 score : %f\" % r2_score(y_test,y_pred3))"
      ]
    },
    {
      "cell_type": "code",
      "execution_count": 168,
      "metadata": {
        "id": "m9o9YH51pyT3",
        "outputId": "d90c8a38-7804-4b87-a95b-99c1cde5125f",
        "colab": {
          "base_uri": "https://localhost:8080/",
          "height": 296
        }
      },
      "outputs": [
        {
          "output_type": "execute_result",
          "data": {
            "text/plain": [
              "Text(0, 0.5, 'Actual Price of the Car')"
            ]
          },
          "metadata": {},
          "execution_count": 168
        },
        {
          "output_type": "display_data",
          "data": {
            "image/png": "[encoded data removed]",
            "text/plain": [
              "<Figure size 432x288 with 1 Axes>"
            ]
          },
          "metadata": {
            "needs_background": "light"
          }
        }
      ],
      "source": [
        "plt.scatter(y_pred3,y_test,)\n",
        "plt.xlabel('Predicted Price of the Car')\n",
        "plt.ylabel('Actual Price of the Car')"
      ]
    },
    {
      "cell_type": "markdown",
      "metadata": {
        "id": "Oph9ov0epyT3"
      },
      "source": [
        "## 4. Ridge Regressor"
      ]
    },
    {
      "cell_type": "code",
      "execution_count": 177,
      "metadata": {
        "id": "Bmmi7GplpyT3",
        "outputId": "b7956eb0-a64c-41cb-b870-2c702bf31309",
        "colab": {
          "base_uri": "https://localhost:8080/"
        }
      },
      "outputs": [
        {
          "output_type": "stream",
          "name": "stdout",
          "text": [
            "Fitting 5 folds for each of 7 candidates, totalling 35 fits\n",
            "Best Params:  {'alpha': 10}\n"
          ]
        }
      ],
      "source": [
        "# find optimal alpha with grid search\n",
        "from sklearn.linear_model import Ridge \n",
        "from sklearn.model_selection import GridSearchCV\n",
        "model4 = Ridge(alpha=1).fit(X_train, y_train)\n",
        "alpha = [0.001, 0.01, 0.1, 1, 10, 100, 1000]\n",
        "param_grid = dict(alpha=alpha)\n",
        "model4 = GridSearchCV(estimator=model4, param_grid=param_grid, scoring='r2', verbose=1, n_jobs=-1)\n",
        "grid_result = model4.fit(X_train, y_train)\n",
        "print('Best Params: ', grid_result.best_params_)"
      ]
    },
    {
      "cell_type": "code",
      "execution_count": 178,
      "metadata": {
        "id": "HfAfdsMbpyT4",
        "outputId": "0ed837ef-e395-4e89-f68e-870b5d3b480c",
        "colab": {
          "base_uri": "https://localhost:8080/"
        }
      },
      "outputs": [
        {
          "output_type": "stream",
          "name": "stdout",
          "text": [
            "Accuracy on Traing set:  71.38519446429902 %\n",
            "Accuracy on Testing set:  74.33692888781486 %\n"
          ]
        }
      ],
      "source": [
        "model4 = Ridge(alpha=10.0)\n",
        "model4.fit(X_train, y_train)\n",
        "y_pred4 = model4.predict(X_test)\n",
        "print(\"Accuracy on Traing set: \",model4.score(X_train,y_train)*100,'%')\n",
        "print(\"Accuracy on Testing set: \",model4.score(X_test,y_test)*100,'%')"
      ]
    },
    {
      "cell_type": "code",
      "execution_count": 179,
      "metadata": {
        "id": "uovcNFElpyT4",
        "outputId": "138ddb6f-eb37-4177-fa55-5af240811b41",
        "colab": {
          "base_uri": "https://localhost:8080/"
        }
      },
      "outputs": [
        {
          "output_type": "stream",
          "name": "stdout",
          "text": [
            "Mean Absolute Error: 3.509627998174471\n",
            "Mean Squared Error: 31.635234231130394\n",
            "Root Mean Squared Error: 5.624520800133145\n",
            "R2 score : 0.743369\n"
          ]
        }
      ],
      "source": [
        "print('Mean Absolute Error:', metrics.mean_absolute_error(y_test, y_pred4))\n",
        "print('Mean Squared Error:', metrics.mean_squared_error(y_test, y_pred4))\n",
        "print('Root Mean Squared Error:', np.sqrt(metrics.mean_squared_error(y_test, y_pred4)))\n",
        "print(\"R2 score : %f\" % r2_score(y_test,y_pred4))"
      ]
    },
    {
      "cell_type": "code",
      "execution_count": 180,
      "metadata": {
        "id": "XTUT6Si8pyT4",
        "outputId": "08e6c5fa-310c-4111-c82c-b2f11e289737",
        "colab": {
          "base_uri": "https://localhost:8080/"
        }
      },
      "outputs": [
        {
          "output_type": "stream",
          "name": "stdout",
          "text": [
            "{'Brand': 2.688535554327057, 'Year': -2.6939279986685984, 'Kilometers_Driven': -0.7851081825439566, 'Fuel_Type_CNG': 0.016174860081513476, 'Fuel_Type_LPG': 0.11051887112175102, 'Fuel_Type_Petrol': -0.8574444657159767, 'Transmission_Automatic': 0.5180851976818082, 'Owner_Type': 0.01625261668582786, 'Power': 5.991551659205747, 'Seats': -0.3203778116283315}\n"
          ]
        }
      ],
      "source": [
        "test_values=list(list(model4.coef_)[0])\n",
        "test_keys=list(X.columns)\n",
        "res={}\n",
        "for key in test_keys:\n",
        "    for value in test_values:\n",
        "        res[key]=value\n",
        "        test_values.remove(value)\n",
        "        break\n",
        "print(res)"
      ]
    },
    {
      "cell_type": "code",
      "execution_count": 181,
      "metadata": {
        "id": "rBnCw-TBpyT5",
        "outputId": "f97d4de9-7c3c-4657-fc4c-8362bee713ce",
        "colab": {
          "base_uri": "https://localhost:8080/",
          "height": 296
        }
      },
      "outputs": [
        {
          "output_type": "execute_result",
          "data": {
            "text/plain": [
              "Text(0, 0.5, 'Actual Price of the Car')"
            ]
          },
          "metadata": {},
          "execution_count": 181
        },
        {
          "output_type": "display_data",
          "data": {
            "image/png": "[encoded data removed]",
            "text/plain": [
              "<Figure size 432x288 with 1 Axes>"
            ]
          },
          "metadata": {
            "needs_background": "light"
          }
        }
      ],
      "source": [
        "plt.scatter(y_pred4,y_test,)\n",
        "plt.xlabel('Predicted Price of the Car')\n",
        "plt.ylabel('Actual Price of the Car')"
      ]
    },
    {
      "cell_type": "markdown",
      "metadata": {
        "id": "kxL1wu6CpyT5"
      },
      "source": [
        "## 5. Lasso Regressor"
      ]
    },
    {
      "cell_type": "code",
      "execution_count": 182,
      "metadata": {
        "id": "lyxO6CLWpyT5",
        "outputId": "a94a9c68-2662-4e94-adae-8a018dd7241c",
        "colab": {
          "base_uri": "https://localhost:8080/"
        }
      },
      "outputs": [
        {
          "output_type": "stream",
          "name": "stdout",
          "text": [
            "Fitting 5 folds for each of 7 candidates, totalling 35 fits\n",
            "Best Params:  {'alpha': 0.01}\n"
          ]
        }
      ],
      "source": [
        "from sklearn.linear_model import Lasso\n",
        "model5 = Lasso(alpha=1).fit(X_train, y_train)\n",
        "alpha = [0.001, 0.01, 0.1, 1, 10, 100, 1000]\n",
        "param_grid = dict(alpha=alpha)\n",
        "\n",
        "model5 = GridSearchCV(estimator=model5, param_grid=param_grid, scoring='r2', verbose=1, n_jobs=-1)\n",
        "grid_result = model5.fit(X_train, y_train)\n",
        "print('Best Params: ', grid_result.best_params_)"
      ]
    },
    {
      "cell_type": "code",
      "execution_count": 183,
      "metadata": {
        "id": "CrL4TEgWpyT6",
        "outputId": "c41fb495-ebb0-4c41-c99a-2f40e8d4f2f1",
        "colab": {
          "base_uri": "https://localhost:8080/"
        }
      },
      "outputs": [
        {
          "output_type": "stream",
          "name": "stdout",
          "text": [
            "Accuracy on Traing set:  71.38482032924715 %\n",
            "Accuracy on Testing set:  74.3311218100348 %\n"
          ]
        }
      ],
      "source": [
        "model5 = Lasso(alpha=0.01)\n",
        "model5.fit(X_train, y_train)\n",
        "y_pred5 = model5.predict(X_test)\n",
        "print(\"Accuracy on Traing set: \",model5.score(X_train,y_train)*100,'%')\n",
        "print(\"Accuracy on Testing set: \",model5.score(X_test,y_test)*100,'%')"
      ]
    },
    {
      "cell_type": "code",
      "execution_count": 184,
      "metadata": {
        "id": "PE1OsZ8JpyT6",
        "outputId": "1aa4ae2e-c61e-4057-e634-e58f73f63edd",
        "colab": {
          "base_uri": "https://localhost:8080/"
        }
      },
      "outputs": [
        {
          "output_type": "stream",
          "name": "stdout",
          "text": [
            "Mean Absolute Error: 3.510746692135595\n",
            "Mean Squared Error: 31.642392698835508\n",
            "Root Mean Squared Error: 5.625157126590821\n",
            "R2 score : 0.743311\n"
          ]
        }
      ],
      "source": [
        "print('Mean Absolute Error:', metrics.mean_absolute_error(y_test, y_pred5))\n",
        "print('Mean Squared Error:', metrics.mean_squared_error(y_test, y_pred5))\n",
        "print('Root Mean Squared Error:', np.sqrt(metrics.mean_squared_error(y_test, y_pred5)))\n",
        "print(\"R2 score : %f\" % r2_score(y_test,y_pred5))"
      ]
    },
    {
      "cell_type": "code",
      "execution_count": 185,
      "metadata": {
        "scrolled": true,
        "id": "R-IUIVNppyT6",
        "outputId": "9a9cb356-cbbf-4054-e5f5-58854d2c780b",
        "colab": {
          "base_uri": "https://localhost:8080/"
        }
      },
      "outputs": [
        {
          "output_type": "stream",
          "name": "stdout",
          "text": [
            "{'Brand': 2.6795594564508733, 'Year': -2.6920859989659327, 'Kilometers_Driven': -0.7750982958961207, 'Fuel_Type_CNG': 0.00810943758662411, 'Fuel_Type_LPG': 0.10186022522073426, 'Fuel_Type_Petrol': -0.843255473887825, 'Transmission_Automatic': 0.5021214960548573, 'Owner_Type': 0.002233898131413828, 'Power': 6.0153303547431625, 'Seats': -0.3120186278377462}\n"
          ]
        }
      ],
      "source": [
        "#list(list(model5.coef_)[0])\n",
        "\n",
        "test_values=list(model5.coef_)\n",
        "test_keys=list(X.columns)\n",
        "res={}\n",
        "for key in test_keys:\n",
        "    for value in test_values:\n",
        "        res[key]=value\n",
        "        test_values.remove(value)\n",
        "        break\n",
        "print(res)"
      ]
    },
    {
      "cell_type": "code",
      "execution_count": 186,
      "metadata": {
        "id": "B7WYVE8upyT6",
        "outputId": "72306d97-b74c-4085-9fb1-6ddd396b43bc",
        "colab": {
          "base_uri": "https://localhost:8080/",
          "height": 296
        }
      },
      "outputs": [
        {
          "output_type": "execute_result",
          "data": {
            "text/plain": [
              "Text(0, 0.5, 'Actual Price of the Car')"
            ]
          },
          "metadata": {},
          "execution_count": 186
        },
        {
          "output_type": "display_data",
          "data": {
            "image/png": "[encoded data removed]",
            "text/plain": [
              "<Figure size 432x288 with 1 Axes>"
            ]
          },
          "metadata": {
            "needs_background": "light"
          }
        }
      ],
      "source": [
        "plt.scatter(y_pred5,y_test,)\n",
        "plt.xlabel('Predicted Price of the Car')\n",
        "plt.ylabel('Actual Price of the Car')"
      ]
    },
    {
      "cell_type": "markdown",
      "metadata": {
        "id": "dbNoqAfSpyT7"
      },
      "source": [
        "## XGBoost Regressor has the best performance(according to R2 values) among the regressors chosen. "
      ]
    }
  ],
  "metadata": {
    "kernelspec": {
      "display_name": "Python 3",
      "language": "python",
      "name": "python3"
    },
    "language_info": {
      "codemirror_mode": {
        "name": "ipython",
        "version": 3
      },
      "file_extension": ".py",
      "mimetype": "text/x-python",
      "name": "python",
      "nbconvert_exporter": "python",
      "pygments_lexer": "ipython3",
      "version": "3.7.6"
    },
    "colab": {
      "name": "ML061B7_MAJOR_PROJECT.ipynb",
      "provenance": [],
      "collapsed_sections": [
        "dbNoqAfSpyT7"
      ]
    }
  },
  "nbformat": 4,
  "nbformat_minor": 0
}